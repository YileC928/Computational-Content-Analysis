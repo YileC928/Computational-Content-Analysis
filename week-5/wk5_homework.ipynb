{
 "cells": [
  {
   "cell_type": "code",
   "execution_count": 2,
   "id": "elegant-hollywood",
   "metadata": {},
   "outputs": [],
   "source": [
    "#Special module written for this class\n",
    "#This provides access to data and to helper functions from previous weeks\n",
    "#Make sure you update it before starting this notebook\n",
    "import lucem_illud #pip install -U git+git://github.com/UChicago-Computational-Content-Analysis/lucem_illud.git\n",
    "\n",
    "#All these packages need to be installed from pip\n",
    "#For ML\n",
    "import sklearn\n",
    "# import sklearn.naive_bayes\n",
    "import sklearn.tree\n",
    "import sklearn.ensemble\n",
    "import sklearn.neural_network\n",
    "import sklearn.decomposition\n",
    "\n",
    "import numpy as np #arrays\n",
    "import matplotlib.pyplot as plt #Plots\n",
    "import matplotlib.colors # For nice colours\n",
    "import seaborn #Makes plots look nice, also heatmaps\n",
    "import scipy as sp #for interp\n",
    "\n",
    "import pyanno #On python3 make sure to pip install pyanno3\n",
    "\n",
    "#We need to import these this way due to how pyanno is setup\n",
    "from pyanno.measures import pairwise_matrix, agreement, cohens_kappa, cohens_weighted_kappa, fleiss_kappa, krippendorffs_alpha, pearsons_rho, scotts_pi, spearmans_rho\n",
    "from pyanno.annotations import AnnotationsContainer\n",
    "from pyanno.models import ModelA, ModelBt, ModelB\n",
    "\n",
    "from functools import reduce\n",
    "from itertools import permutations\n",
    "import math\n",
    "\n",
    "#These are from the standard library\n",
    "import collections\n",
    "import os\n",
    "import os.path\n",
    "import random\n",
    "import re\n",
    "import glob\n",
    "import pandas\n",
    "import requests\n",
    "import json\n",
    "import math\n",
    "\n",
    "#This 'magic' command makes the plots work better\n",
    "#in the notebook, don't use it outside of a notebook.\n",
    "#Also you can ignore the warning\n",
    "%matplotlib inline"
   ]
  },
  {
   "cell_type": "markdown",
   "id": "exempt-salvation",
   "metadata": {},
   "source": [
    "## <font color=\"red\">*Exercise 1*</font>\n",
    "\n",
    "<font color=\"red\">Perform a content annotation survey of some kind in which at least 3 people evaluate and code each piece of content, using Amazon Mechanical Turk as described in the [MTurk slides on Canvas](https://canvas.uchicago.edu/courses/39937/files/6674661?wrap=1), or by hand with friends.  With the resulting data, calculate, visualize and discuss inter-coder agreement or covariation with appropriate metrics. What does this means for the reliability of human assessments regarding content in your domain?"
   ]
  },
  {
   "cell_type": "markdown",
   "id": "sealed-stand",
   "metadata": {},
   "source": [
    "I invited three friends to code a subset (100) of youtube investment analyst I scrapped. Non-investment related channels are coded with 0 and investment related channels are coded with 1.\n",
    "\n",
    "The metrics scores following are quite good, suggesting human assessment regarding the content is reliable."
   ]
  },
  {
   "cell_type": "code",
   "execution_count": 116,
   "id": "double-mileage",
   "metadata": {},
   "outputs": [],
   "source": [
    "channels = pandas.read_csv('channels_short.csv')"
   ]
  },
  {
   "cell_type": "code",
   "execution_count": 122,
   "id": "respiratory-kelly",
   "metadata": {},
   "outputs": [
    {
     "data": {
      "text/html": [
       "<div>\n",
       "<style scoped>\n",
       "    .dataframe tbody tr th:only-of-type {\n",
       "        vertical-align: middle;\n",
       "    }\n",
       "\n",
       "    .dataframe tbody tr th {\n",
       "        vertical-align: top;\n",
       "    }\n",
       "\n",
       "    .dataframe thead th {\n",
       "        text-align: right;\n",
       "    }\n",
       "</style>\n",
       "<table border=\"1\" class=\"dataframe\">\n",
       "  <thead>\n",
       "    <tr style=\"text-align: right;\">\n",
       "      <th></th>\n",
       "      <th>coder1</th>\n",
       "      <th>coder2</th>\n",
       "      <th>coder3</th>\n",
       "    </tr>\n",
       "  </thead>\n",
       "  <tbody>\n",
       "    <tr>\n",
       "      <th>0</th>\n",
       "      <td>0</td>\n",
       "      <td>0</td>\n",
       "      <td>0</td>\n",
       "    </tr>\n",
       "    <tr>\n",
       "      <th>1</th>\n",
       "      <td>1</td>\n",
       "      <td>1</td>\n",
       "      <td>1</td>\n",
       "    </tr>\n",
       "    <tr>\n",
       "      <th>2</th>\n",
       "      <td>0</td>\n",
       "      <td>0</td>\n",
       "      <td>0</td>\n",
       "    </tr>\n",
       "    <tr>\n",
       "      <th>3</th>\n",
       "      <td>1</td>\n",
       "      <td>1</td>\n",
       "      <td>1</td>\n",
       "    </tr>\n",
       "    <tr>\n",
       "      <th>4</th>\n",
       "      <td>1</td>\n",
       "      <td>1</td>\n",
       "      <td>1</td>\n",
       "    </tr>\n",
       "    <tr>\n",
       "      <th>...</th>\n",
       "      <td>...</td>\n",
       "      <td>...</td>\n",
       "      <td>...</td>\n",
       "    </tr>\n",
       "    <tr>\n",
       "      <th>95</th>\n",
       "      <td>0</td>\n",
       "      <td>0</td>\n",
       "      <td>0</td>\n",
       "    </tr>\n",
       "    <tr>\n",
       "      <th>96</th>\n",
       "      <td>1</td>\n",
       "      <td>1</td>\n",
       "      <td>1</td>\n",
       "    </tr>\n",
       "    <tr>\n",
       "      <th>97</th>\n",
       "      <td>1</td>\n",
       "      <td>1</td>\n",
       "      <td>1</td>\n",
       "    </tr>\n",
       "    <tr>\n",
       "      <th>98</th>\n",
       "      <td>1</td>\n",
       "      <td>1</td>\n",
       "      <td>1</td>\n",
       "    </tr>\n",
       "    <tr>\n",
       "      <th>99</th>\n",
       "      <td>1</td>\n",
       "      <td>1</td>\n",
       "      <td>1</td>\n",
       "    </tr>\n",
       "  </tbody>\n",
       "</table>\n",
       "<p>100 rows × 3 columns</p>\n",
       "</div>"
      ],
      "text/plain": [
       "    coder1  coder2  coder3\n",
       "0        0       0       0\n",
       "1        1       1       1\n",
       "2        0       0       0\n",
       "3        1       1       1\n",
       "4        1       1       1\n",
       "..     ...     ...     ...\n",
       "95       0       0       0\n",
       "96       1       1       1\n",
       "97       1       1       1\n",
       "98       1       1       1\n",
       "99       1       1       1\n",
       "\n",
       "[100 rows x 3 columns]"
      ]
     },
     "execution_count": 122,
     "metadata": {},
     "output_type": "execute_result"
    }
   ],
   "source": [
    "channels[['coder1','coder2','coder3']]"
   ]
  },
  {
   "cell_type": "code",
   "execution_count": 124,
   "id": "decreased-yield",
   "metadata": {},
   "outputs": [
    {
     "data": {
      "text/plain": [
       "(100, 3)"
      ]
     },
     "execution_count": 124,
     "metadata": {},
     "output_type": "execute_result"
    }
   ],
   "source": [
    "np.shape(np.array(channels[['coder1','coder2','coder3']]))"
   ]
  },
  {
   "cell_type": "code",
   "execution_count": 125,
   "id": "genetic-andorra",
   "metadata": {},
   "outputs": [],
   "source": [
    "x = np.array(channels[['coder1','coder2','coder3']])\n",
    "anno = AnnotationsContainer.from_array(x, missing_values=[-1])"
   ]
  },
  {
   "cell_type": "code",
   "execution_count": 126,
   "id": "lyric-armstrong",
   "metadata": {},
   "outputs": [
    {
     "data": {
      "text/plain": [
       "[0, 1]"
      ]
     },
     "execution_count": 126,
     "metadata": {},
     "output_type": "execute_result"
    }
   ],
   "source": [
    "anno.labels"
   ]
  },
  {
   "cell_type": "code",
   "execution_count": 128,
   "id": "social-advocate",
   "metadata": {},
   "outputs": [
    {
     "data": {
      "text/plain": [
       "array([0.11333333, 0.88666667])"
      ]
     },
     "execution_count": 128,
     "metadata": {},
     "output_type": "execute_result"
    }
   ],
   "source": [
    "pyanno.measures.agreement.labels_frequency(anno.annotations,2)"
   ]
  },
  {
   "cell_type": "code",
   "execution_count": 129,
   "id": "closing-collective",
   "metadata": {},
   "outputs": [
    {
     "name": "stdout",
     "output_type": "stream",
     "text": [
      "[[ 9.  1.]\n",
      " [ 3. 87.]]\n"
     ]
    },
    {
     "data": {
      "image/png": "[encoded data removed]",
      "text/plain": [
       "<Figure size 432x288 with 2 Axes>"
      ]
     },
     "metadata": {
      "needs_background": "light"
     },
     "output_type": "display_data"
    }
   ],
   "source": [
    "c = pyanno.measures.agreement.confusion_matrix(anno.annotations[:,0], anno.annotations[:,1],2)\n",
    "print(c)\n",
    "ac = seaborn.heatmap(c)\n",
    "plt.show()"
   ]
  },
  {
   "cell_type": "code",
   "execution_count": 130,
   "id": "short-greek",
   "metadata": {},
   "outputs": [
    {
     "data": {
      "text/plain": [
       "0.7957099080694584"
      ]
     },
     "execution_count": 130,
     "metadata": {},
     "output_type": "execute_result"
    }
   ],
   "source": [
    "scotts_pi(anno.annotations[:,0], anno.annotations[:,1])"
   ]
  },
  {
   "cell_type": "code",
   "execution_count": 140,
   "id": "sensitive-layout",
   "metadata": {},
   "outputs": [
    {
     "data": {
      "text/plain": [
       "0.8341441839893852"
      ]
     },
     "execution_count": 140,
     "metadata": {},
     "output_type": "execute_result"
    }
   ],
   "source": [
    "fleiss_kappa(anno.annotations)"
   ]
  },
  {
   "cell_type": "code",
   "execution_count": 137,
   "id": "varied-strengthening",
   "metadata": {},
   "outputs": [
    {
     "data": {
      "text/plain": [
       "0.8346970367094206"
      ]
     },
     "execution_count": 137,
     "metadata": {},
     "output_type": "execute_result"
    }
   ],
   "source": [
    "krippendorffs_alpha(anno.annotations)"
   ]
  },
  {
   "cell_type": "code",
   "execution_count": 141,
   "id": "recorded-mexican",
   "metadata": {},
   "outputs": [
    {
     "data": {
      "text/plain": [
       "0.7959183673469385"
      ]
     },
     "execution_count": 141,
     "metadata": {},
     "output_type": "execute_result"
    }
   ],
   "source": [
    "cohens_kappa(anno.annotations[:,0], anno.annotations[:,1])"
   ]
  },
  {
   "cell_type": "code",
   "execution_count": 142,
   "id": "russian-veteran",
   "metadata": {},
   "outputs": [
    {
     "name": "stdout",
     "output_type": "stream",
     "text": [
      "[[1.         0.79591837 0.79591837]\n",
      " [0.79591837 1.         0.90530303]\n",
      " [0.79591837 0.90530303 1.        ]]\n"
     ]
    }
   ],
   "source": [
    "m = pairwise_matrix(cohens_kappa, anno.annotations)\n",
    "print(m)"
   ]
  },
  {
   "cell_type": "code",
   "execution_count": 143,
   "id": "copyrighted-workshop",
   "metadata": {
    "scrolled": true
   },
   "outputs": [
    {
     "data": {
      "image/png": "[encoded data removed]",
      "text/plain": [
       "<Figure size 432x288 with 2 Axes>"
      ]
     },
     "metadata": {
      "needs_background": "light"
     },
     "output_type": "display_data"
    }
   ],
   "source": [
    "ax = seaborn.heatmap(m)\n",
    "plt.show()"
   ]
  },
  {
   "cell_type": "code",
   "execution_count": 144,
   "id": "tested-avenue",
   "metadata": {},
   "outputs": [
    {
     "data": {
      "text/plain": [
       "0.8323799216656358"
      ]
     },
     "execution_count": 144,
     "metadata": {},
     "output_type": "execute_result"
    }
   ],
   "source": [
    "def pairwise_metric_average(metric, array):\n",
    "    \"\"\"Calculate the pairwise metric average for the real elements of metric function run on an array of annotations\"\"\"\n",
    "    p = permutations(range(array[0,:].size),2)\n",
    "    m = [metric(array[:,x[0]], array[:,x[1]]) for x in p]\n",
    "    clean_m = [c for c in m if not math.isnan(c)]\n",
    "    return reduce(lambda a, b: a + b, clean_m)/len(clean_m)    \n",
    " \n",
    "pairwise_metric_average(cohens_kappa, anno.annotations)"
   ]
  },
  {
   "cell_type": "code",
   "execution_count": 145,
   "id": "studied-sherman",
   "metadata": {},
   "outputs": [
    {
     "data": {
      "text/plain": [
       "0.7959183673469388"
      ]
     },
     "execution_count": 145,
     "metadata": {},
     "output_type": "execute_result"
    }
   ],
   "source": [
    "cohens_weighted_kappa(anno.annotations[:,0], anno.annotations[:,1])"
   ]
  },
  {
   "cell_type": "code",
   "execution_count": 146,
   "id": "departmental-stanley",
   "metadata": {},
   "outputs": [
    {
     "data": {
      "text/plain": [
       "0.8323799216656359"
      ]
     },
     "execution_count": 146,
     "metadata": {},
     "output_type": "execute_result"
    }
   ],
   "source": [
    "pairwise_metric_average(cohens_weighted_kappa,anno.annotations)"
   ]
  },
  {
   "cell_type": "code",
   "execution_count": 147,
   "id": "coordinated-iraqi",
   "metadata": {
    "scrolled": true
   },
   "outputs": [
    {
     "data": {
      "image/png": "[encoded data removed]",
      "text/plain": [
       "<Figure size 432x288 with 2 Axes>"
      ]
     },
     "metadata": {
      "needs_background": "light"
     },
     "output_type": "display_data"
    },
    {
     "data": {
      "image/png": "[encoded data removed]",
      "text/plain": [
       "<Figure size 432x288 with 2 Axes>"
      ]
     },
     "metadata": {
      "needs_background": "light"
     },
     "output_type": "display_data"
    }
   ],
   "source": [
    "n = pairwise_matrix(pearsons_rho, anno.annotations)\n",
    "m = pairwise_matrix(spearmans_rho, anno.annotations)\n",
    "an = seaborn.heatmap(n)\n",
    "plt.show()\n",
    "am = seaborn.heatmap(m)\n",
    "plt.show()"
   ]
  },
  {
   "cell_type": "code",
   "execution_count": 148,
   "id": "facial-payday",
   "metadata": {},
   "outputs": [
    {
     "name": "stdout",
     "output_type": "stream",
     "text": [
      "0.8351641376781186 0.8351641376781186\n"
     ]
    }
   ],
   "source": [
    "print(pairwise_metric_average(pearsons_rho,anno.annotations), pairwise_metric_average(spearmans_rho,anno.annotations))"
   ]
  },
  {
   "cell_type": "markdown",
   "id": "blond-clock",
   "metadata": {},
   "source": [
    "## <font color=\"red\">*Exercise 2*</font>\n",
    "\n",
    "<font color=\"red\">Go back through all of the cells above and generate 10 distinct artificial datasets and classify them with all of the available methods. Add a cell immediately below and describe which classifier(s) worked best with which artificially constructed data source and why. Then go through all of the empirical datasets (i.e., Newsgroups, Senate Small, Senate Large, Email Spam) and classify them with all available methods. Add a second cell immediately below and describe which classifier(s) worked best with which data set and why.\n",
    "\n",
    "<font color=\"red\">***Stretch*** (but also required) Wander through the SKLearn documentation available [here](http://scikit-learn.org/stable/), particularly perusing the classifiers. In cells following, identify and implement a new classifier that we have not yet used (e.g., AdaBoost, CART) on one artificial dataset and one real dataset (used above). Then, in the next cell describe the classifier, detail how it compares with the approaches above, and why it performed better or worse than others."
   ]
  },
  {
   "cell_type": "markdown",
   "id": "superb-barcelona",
   "metadata": {},
   "source": [
    "SVC with linear kenel performs the best for News group dataset, Senate Small, and Senate Large dataset.\n",
    "\n",
    "SVC with linear kenel performs the best for dataset1 and dataset9.\n",
    "\n",
    "SVC with polynomial kenel performs the best for dataset2.\n",
    "\n",
    "Gradient Boosting Classifier performs the best for dataset3, dataset7 and dataset10.\n",
    "\n",
    "Naive bayes classifer performs the best for dataset4, dataset5, dataset6, dataset8.\n"
   ]
  },
  {
   "cell_type": "code",
   "execution_count": 4,
   "id": "entire-oriental",
   "metadata": {},
   "outputs": [],
   "source": [
    "#datasets\n",
    "noise = .2\n",
    "\n",
    "dfTrain2, dfTest2 = sklearn.model_selection.train_test_split(lucem_illud.andSplit(noise), test_size=.2)\n",
    "dfTrain3, dfTest3 = sklearn.model_selection.train_test_split(lucem_illud.xorSplit(noise), test_size=.2)\n",
    "dfTrain4, dfTest4 = sklearn.model_selection.train_test_split(lucem_illud.targetSplit(noise), test_size=.2)\n",
    "dfTrain1, dfTest1 = sklearn.model_selection.train_test_split(lucem_illud.multiBlobs(noise), test_size=.2)\n",
    "\n",
    "noise = .5\n",
    "\n",
    "dfTrain6, dfTest6 = sklearn.model_selection.train_test_split(lucem_illud.andSplit(noise), test_size=.2)\n",
    "dfTrain7, dfTest7 = sklearn.model_selection.train_test_split(lucem_illud.xorSplit(noise), test_size=.2)\n",
    "dfTrain8, dfTest8 = sklearn.model_selection.train_test_split(lucem_illud.targetSplit(noise), test_size=.2)\n",
    "dfTrain5, dfTest5 = sklearn.model_selection.train_test_split(lucem_illud.multiBlobs(noise), test_size=.2)\n",
    "\n",
    "noise = .8\n",
    "dfTrain9, dfTest9 = sklearn.model_selection.train_test_split(lucem_illud.andSplit(noise), test_size=.2)\n",
    "dfTrain10, dfTest10 = sklearn.model_selection.train_test_split(lucem_illud.xorSplit(noise), test_size=.2)\n",
    "\n"
   ]
  },
  {
   "cell_type": "code",
   "execution_count": 6,
   "id": "imported-activity",
   "metadata": {},
   "outputs": [],
   "source": [
    "import sklearn.naive_bayes"
   ]
  },
  {
   "cell_type": "code",
   "execution_count": 7,
   "id": "governing-ministry",
   "metadata": {},
   "outputs": [],
   "source": [
    "#models\n",
    "#Bayes\n",
    "clf1 = sklearn.naive_bayes.GaussianNB()\n",
    "\n",
    "#Analogizes\n",
    "clf2 = sklearn.svm.SVC(kernel = 'linear', probability = True) #slow, set probability = False to speed up\n",
    "clf3 = sklearn.svm.SVC(kernel = 'poly', degree = 3, probability = True) #slower\n",
    "clf4 = sklearn.neighbors.KNeighborsClassifier(5, weights='distance')# k, 'distance' or 'uniform'\n",
    "\n",
    "#Classical Regression\n",
    "clf5 = sklearn.linear_model.LogisticRegression()\n",
    "\n",
    "#Symbolists\n",
    "clf6 = sklearn.tree.DecisionTreeClassifier()\n",
    "clf7 = sklearn.ensemble.RandomForestClassifier()\n",
    "\n",
    "#Connectionists\n",
    "clf8 = sklearn.neural_network.MLPClassifier()\n",
    "\n",
    "#Ensemble\n",
    "clf9 = sklearn.ensemble.GradientBoostingClassifier()"
   ]
  },
  {
   "cell_type": "code",
   "execution_count": 8,
   "id": "printable-norwegian",
   "metadata": {},
   "outputs": [],
   "source": [
    "clfs = [clf1, clf2, clf3, clf4, clf5, clf6, clf7, clf8, clf9]\n",
    "data = [(dfTrain1, dfTest1), (dfTrain2, dfTest2), (dfTrain3, dfTest3),\n",
    "        (dfTrain4, dfTest4), (dfTrain5, dfTest5), (dfTrain6, dfTest6),\n",
    "       (dfTrain7, dfTest7), (dfTrain8, dfTest8), (dfTrain9, dfTest9), (dfTrain10, dfTest10)]\n"
   ]
  },
  {
   "cell_type": "code",
   "execution_count": 16,
   "id": "thousand-individual",
   "metadata": {},
   "outputs": [
    {
     "name": "stdout",
     "output_type": "stream",
     "text": [
      "clf 1\n",
      "dataset 1\n",
      "          Error_Rate       AUC  Precision  Average_Precision    Recall\n",
      "Category                                                              \n",
      "0              0.032  0.953750   0.911765           0.861941  0.930000\n",
      "1              0.058  0.907354   0.872549           0.771589  0.847619\n",
      "2              0.000  1.000000   1.000000           1.000000  1.000000\n",
      "3              0.026  0.962815   0.934579           0.893679  0.943396\n",
      "4              0.000  1.000000   1.000000           1.000000  1.000000\n",
      "clf 1\n",
      "dataset 2\n",
      "          Error_Rate    AUC  Precision  Average_Precision  Recall\n",
      "Category                                                         \n",
      "0              0.135  0.865   0.884211           0.822737    0.84\n",
      "1              0.135  0.865   0.847619           0.809381    0.89\n",
      "clf 1\n",
      "dataset 3\n",
      "          Error_Rate       AUC  Precision  Average_Precision    Recall\n",
      "Category                                                              \n",
      "0               0.44  0.561425   0.543860           0.524074  0.632653\n",
      "1               0.44  0.561425   0.581395           0.544998  0.490196\n",
      "clf 1\n",
      "dataset 4\n",
      "          Error_Rate       AUC  Precision  Average_Precision    Recall\n",
      "Category                                                              \n",
      "0              0.135  0.859449   0.855932           0.828821  0.909910\n",
      "1              0.135  0.859449   0.878049           0.795332  0.808989\n",
      "clf 1\n",
      "dataset 5\n",
      "          Error_Rate       AUC  Precision  Average_Precision    Recall\n",
      "Category                                                              \n",
      "0               0.00  1.000000   1.000000           1.000000  1.000000\n",
      "1               0.15  0.786909   0.625000           0.490757  0.679612\n",
      "2               0.01  0.980527   0.977011           0.949704  0.965909\n",
      "3               0.01  0.985344   0.967391           0.950130  0.978022\n",
      "4               0.15  0.769974   0.679612           0.508757  0.625000\n",
      "clf 1\n",
      "dataset 6\n",
      "          Error_Rate       AUC  Precision  Average_Precision    Recall\n",
      "Category                                                              \n",
      "0              0.255  0.744798   0.747573           0.689344  0.754902\n",
      "1              0.255  0.744798   0.742268           0.675340  0.734694\n",
      "clf 1\n",
      "dataset 7\n",
      "          Error_Rate       AUC  Precision  Average_Precision    Recall\n",
      "Category                                                              \n",
      "0               0.55  0.451128   0.428571           0.453008  0.473684\n",
      "1               0.55  0.451128   0.473684           0.503008  0.428571\n",
      "clf 1\n",
      "dataset 8\n",
      "          Error_Rate       AUC  Precision  Average_Precision    Recall\n",
      "Category                                                              \n",
      "0              0.215  0.791222   0.715686           0.670518  0.839080\n",
      "1              0.215  0.791222   0.857143           0.782168  0.743363\n",
      "clf 1\n",
      "dataset 9\n",
      "          Error_Rate       AUC  Precision  Average_Precision    Recall\n",
      "Category                                                              \n",
      "0               0.38  0.623397   0.586207           0.555230  0.708333\n",
      "1               0.38  0.623397   0.666667           0.598974  0.538462\n",
      "clf 1\n",
      "dataset 10\n",
      "          Error_Rate       AUC  Precision  Average_Precision    Recall\n",
      "Category                                                              \n",
      "0              0.515  0.486916   0.447619           0.453675  0.510870\n",
      "1              0.515  0.486916   0.526316           0.533665  0.462963\n",
      "clf 2\n",
      "dataset 1\n",
      "          Error_Rate       AUC  Precision  Average_Precision    Recall\n",
      "Category                                                              \n",
      "0              0.032  0.953750   0.911765           0.861941  0.930000\n",
      "1              0.056  0.908620   0.881188           0.778912  0.847619\n",
      "2              0.000  1.000000   1.000000           1.000000  1.000000\n",
      "3              0.024  0.967532   0.935185           0.901073  0.952830\n",
      "4              0.000  1.000000   1.000000           1.000000  1.000000\n",
      "clf 2\n",
      "dataset 2\n",
      "          Error_Rate   AUC  Precision  Average_Precision  Recall\n",
      "Category                                                        \n",
      "0               0.13  0.87   0.885417           0.827604    0.85\n",
      "1               0.13  0.87   0.855769           0.816635    0.89\n",
      "clf 2\n",
      "dataset 3\n",
      "          Error_Rate       AUC  Precision  Average_Precision    Recall\n",
      "Category                                                              \n",
      "0               0.38  0.617447   0.648649           0.567705  0.489796\n",
      "1               0.38  0.617447   0.603175           0.579424  0.745098\n",
      "clf 2\n",
      "dataset 4\n",
      "          Error_Rate  AUC  Precision  Average_Precision  Recall\n",
      "Category                                                       \n",
      "0              0.555  0.5      0.000              0.555     0.0\n",
      "1              0.555  0.5      0.445              0.445     1.0\n",
      "clf 2\n",
      "dataset 5\n"
     ]
    },
    {
     "name": "stderr",
     "output_type": "stream",
     "text": [
      "/anaconda3/lib/python3.7/site-packages/sklearn/metrics/classification.py:1143: UndefinedMetricWarning: Precision is ill-defined and being set to 0.0 due to no predicted samples.\n",
      "  'precision', 'predicted', average, warn_for)\n"
     ]
    },
    {
     "name": "stdout",
     "output_type": "stream",
     "text": [
      "          Error_Rate       AUC  Precision  Average_Precision    Recall\n",
      "Category                                                              \n",
      "0              0.000  1.000000   1.000000           1.000000  1.000000\n",
      "1              0.148  0.791763   0.628319           0.497113  0.689320\n",
      "2              0.014  0.978100   0.955056           0.928497  0.965909\n",
      "3              0.014  0.974354   0.966667           0.932176  0.956044\n",
      "4              0.148  0.771263   0.686275           0.512922  0.625000\n",
      "clf 2\n",
      "dataset 6\n",
      "          Error_Rate       AUC  Precision  Average_Precision    Recall\n",
      "Category                                                              \n",
      "0               0.26  0.739896   0.745098           0.685171  0.745098\n",
      "1               0.26  0.739896   0.734694           0.669775  0.734694\n",
      "clf 2\n",
      "dataset 7\n",
      "          Error_Rate      AUC  Precision  Average_Precision    Recall\n",
      "Category                                                             \n",
      "0              0.515  0.47995   0.450000           0.465526  0.378947\n",
      "1              0.515  0.47995   0.508333           0.515317  0.580952\n",
      "clf 2\n",
      "dataset 8\n",
      "          Error_Rate  AUC  Precision  Average_Precision  Recall\n",
      "Category                                                       \n",
      "0              0.565  0.5      0.435              0.435     1.0\n",
      "1              0.565  0.5      0.000              0.565     0.0\n",
      "clf 2\n",
      "dataset 9\n",
      "          Error_Rate       AUC  Precision  Average_Precision    Recall\n",
      "Category                                                              \n",
      "0              0.365  0.637821   0.601770           0.566254  0.708333\n",
      "1              0.365  0.637821   0.678161           0.609726  0.567308\n",
      "clf 2\n",
      "dataset 10\n"
     ]
    },
    {
     "name": "stderr",
     "output_type": "stream",
     "text": [
      "/anaconda3/lib/python3.7/site-packages/sklearn/metrics/classification.py:1143: UndefinedMetricWarning: Precision is ill-defined and being set to 0.0 due to no predicted samples.\n",
      "  'precision', 'predicted', average, warn_for)\n"
     ]
    },
    {
     "name": "stdout",
     "output_type": "stream",
     "text": [
      "          Error_Rate       AUC  Precision  Average_Precision    Recall\n",
      "Category                                                              \n",
      "0              0.475  0.541667   0.489362           0.482021  0.750000\n",
      "1              0.475  0.541667   0.610169           0.563390  0.333333\n",
      "clf 3\n",
      "dataset 1\n",
      "          Error_Rate       AUC  Precision  Average_Precision    Recall\n",
      "Category                                                              \n",
      "0              0.032  0.957500   0.903846           0.861615  0.940000\n",
      "1              0.058  0.903858   0.880000           0.771524  0.838095\n",
      "2              0.000  1.000000   1.000000           1.000000  1.000000\n",
      "3              0.026  0.962815   0.934579           0.893679  0.943396\n",
      "4              0.000  1.000000   1.000000           1.000000  1.000000\n",
      "clf 3\n",
      "dataset 2\n",
      "          Error_Rate   AUC  Precision  Average_Precision  Recall\n",
      "Category                                                        \n",
      "0               0.11  0.89   0.861111           0.835833    0.93\n",
      "1               0.11  0.89   0.923913           0.860326    0.85\n",
      "clf 3\n",
      "dataset 3\n",
      "          Error_Rate       AUC  Precision  Average_Precision    Recall\n",
      "Category                                                              \n",
      "0               0.28  0.717887   0.769231           0.660958  0.612245\n",
      "1               0.28  0.717887   0.688525           0.657020  0.823529\n",
      "clf 3\n",
      "dataset 4\n",
      "          Error_Rate  AUC  Precision  Average_Precision  Recall\n",
      "Category                                                       \n",
      "0              0.555  0.5      0.000              0.555     0.0\n",
      "1              0.555  0.5      0.445              0.445     1.0\n",
      "clf 3\n",
      "dataset 5\n"
     ]
    },
    {
     "name": "stderr",
     "output_type": "stream",
     "text": [
      "/anaconda3/lib/python3.7/site-packages/sklearn/metrics/classification.py:1143: UndefinedMetricWarning: Precision is ill-defined and being set to 0.0 due to no predicted samples.\n",
      "  'precision', 'predicted', average, warn_for)\n"
     ]
    },
    {
     "name": "stdout",
     "output_type": "stream",
     "text": [
      "          Error_Rate       AUC  Precision  Average_Precision    Recall\n",
      "Category                                                              \n",
      "0              0.004  0.997462   0.981481           0.981481  1.000000\n",
      "1              0.156  0.811890   0.595420           0.500900  0.757282\n",
      "2              0.010  0.980527   0.977011           0.949704  0.965909\n",
      "3              0.010  0.985344   0.967391           0.950130  0.978022\n",
      "4              0.156  0.728001   0.707317           0.474289  0.517857\n",
      "clf 3\n",
      "dataset 6\n",
      "          Error_Rate       AUC  Precision  Average_Precision    Recall\n",
      "Category                                                              \n",
      "0               0.28  0.717687   0.685484           0.656237  0.833333\n",
      "1               0.28  0.717687   0.776316           0.662374  0.602041\n",
      "clf 3\n",
      "dataset 7\n",
      "          Error_Rate       AUC  Precision  Average_Precision    Recall\n",
      "Category                                                              \n",
      "0              0.255  0.734085   0.907407           0.698031  0.515789\n",
      "1              0.255  0.734085   0.684932           0.677316  0.952381\n",
      "clf 3\n",
      "dataset 8\n",
      "          Error_Rate  AUC  Precision  Average_Precision  Recall\n",
      "Category                                                       \n",
      "0              0.565  0.5      0.435              0.435     1.0\n",
      "1              0.565  0.5      0.000              0.565     0.0\n",
      "clf 3\n",
      "dataset 9\n",
      "          Error_Rate       AUC  Precision  Average_Precision    Recall\n",
      "Category                                                              \n",
      "0              0.425  0.582933   0.539568           0.526538  0.781250\n",
      "1              0.425  0.582933   0.655738           0.572207  0.384615\n",
      "clf 3\n",
      "dataset 10\n"
     ]
    },
    {
     "name": "stderr",
     "output_type": "stream",
     "text": [
      "/anaconda3/lib/python3.7/site-packages/sklearn/metrics/classification.py:1143: UndefinedMetricWarning: Precision is ill-defined and being set to 0.0 due to no predicted samples.\n",
      "  'precision', 'predicted', average, warn_for)\n"
     ]
    },
    {
     "name": "stdout",
     "output_type": "stream",
     "text": [
      "          Error_Rate       AUC  Precision  Average_Precision    Recall\n",
      "Category                                                              \n",
      "0               0.35  0.630837   0.720000           0.561739  0.391304\n",
      "1               0.35  0.630837   0.626667           0.615432  0.870370\n",
      "clf 4\n",
      "dataset 1\n",
      "          Error_Rate       AUC  Precision  Average_Precision    Recall\n",
      "Category                                                              \n",
      "0              0.036  0.947500   0.901961           0.845804  0.920000\n",
      "1              0.064  0.903556   0.847619           0.750458  0.847619\n",
      "2              0.000  1.000000   1.000000           1.000000  1.000000\n",
      "3              0.028  0.954650   0.942308           0.887190  0.924528\n",
      "4              0.000  1.000000   1.000000           1.000000  1.000000\n",
      "clf 4\n",
      "dataset 2\n",
      "          Error_Rate    AUC  Precision  Average_Precision  Recall\n",
      "Category                                                         \n",
      "0              0.155  0.845   0.855670           0.795206    0.83\n",
      "1              0.155  0.845   0.834951           0.788058    0.86\n",
      "clf 4\n",
      "dataset 3\n",
      "          Error_Rate       AUC  Precision  Average_Precision    Recall\n",
      "Category                                                              \n",
      "0              0.105  0.894458   0.913978           0.857736  0.867347\n",
      "1              0.105  0.894458   0.878505           0.849602  0.921569\n",
      "clf 4\n",
      "dataset 4\n",
      "          Error_Rate       AUC  Precision  Average_Precision    Recall\n",
      "Category                                                              \n",
      "0              0.165  0.829082   0.830508           0.798242  0.882883\n",
      "1              0.165  0.829082   0.841463           0.752371  0.775281\n",
      "clf 4\n",
      "dataset 5\n",
      "          Error_Rate       AUC  Precision  Average_Precision    Recall\n",
      "Category                                                              \n",
      "0              0.000  1.000000   1.000000           1.000000  1.000000\n",
      "1              0.174  0.743036   0.574074           0.427559  0.601942\n",
      "2              0.010  0.984996   0.966292           0.948331  0.977273\n",
      "3              0.010  0.981071   0.977778           0.951543  0.967033\n",
      "4              0.174  0.741808   0.616822           0.455485  0.589286\n",
      "clf 4\n",
      "dataset 6\n",
      "          Error_Rate       AUC  Precision  Average_Precision    Recall\n",
      "Category                                                              \n",
      "0              0.335  0.665166   0.676768           0.619543  0.656863\n",
      "1              0.335  0.665166   0.653465           0.600089  0.673469\n",
      "clf 4\n",
      "dataset 7\n",
      "          Error_Rate       AUC  Precision  Average_Precision    Recall\n",
      "Category                                                              \n",
      "0              0.235  0.765163   0.744898           0.682395  0.768421\n",
      "1              0.235  0.765163   0.784314           0.722572  0.761905\n",
      "clf 4\n",
      "dataset 8\n",
      "          Error_Rate       AUC  Precision  Average_Precision    Recall\n",
      "Category                                                              \n",
      "0               0.28  0.724443   0.653465           0.600732  0.758621\n",
      "1               0.28  0.724443   0.787879           0.718846  0.690265\n",
      "clf 4\n",
      "dataset 9\n",
      "          Error_Rate       AUC  Precision  Average_Precision    Recall\n",
      "Category                                                              \n",
      "0              0.435  0.565705   0.543689           0.517152  0.583333\n",
      "1              0.435  0.565705   0.587629           0.557066  0.548077\n",
      "clf 4\n",
      "dataset 10\n",
      "          Error_Rate       AUC  Precision  Average_Precision    Recall\n",
      "Category                                                              \n",
      "0              0.385  0.617754   0.571429           0.532671  0.652174\n",
      "1              0.385  0.617754   0.663158           0.611842  0.583333\n",
      "clf 5\n",
      "dataset 1\n",
      "          Error_Rate       AUC  Precision  Average_Precision    Recall\n",
      "Category                                                              \n",
      "0              0.032  0.938750   0.946809           0.864660  0.890000\n",
      "1              0.074  0.872755   0.854167           0.713063  0.780952\n",
      "2              0.000  1.000000   1.000000           1.000000  1.000000\n",
      "3              0.042  0.963006   0.851240           0.833148  0.971698\n",
      "4              0.000  1.000000   1.000000           1.000000  1.000000\n",
      "clf 5\n",
      "dataset 2\n",
      "          Error_Rate    AUC  Precision  Average_Precision  Recall\n",
      "Category                                                         \n",
      "0              0.135  0.865   0.868687           0.817071    0.86\n",
      "1              0.135  0.865   0.861386           0.814406    0.87\n",
      "clf 5\n",
      "dataset 3\n",
      "          Error_Rate       AUC  Precision  Average_Precision    Recall\n",
      "Category                                                              \n",
      "0               0.55  0.451981       0.45           0.467959  0.551020\n",
      "1               0.55  0.451981       0.45           0.488824  0.352941\n",
      "clf 5\n",
      "dataset 4\n",
      "          Error_Rate       AUC  Precision  Average_Precision    Recall\n",
      "Category                                                              \n",
      "0               0.67  0.370787   0.000000           0.555000  0.000000\n",
      "1               0.67  0.370787   0.372881           0.391519  0.741573\n",
      "clf 5\n",
      "dataset 5\n",
      "          Error_Rate       AUC  Precision  Average_Precision    Recall\n",
      "Category                                                              \n",
      "0              0.000  1.000000   1.000000           1.000000  1.000000\n",
      "1              0.152  0.782055   0.621622           0.484426  0.669903\n",
      "2              0.020  0.978928   0.914894           0.898101  0.977273\n",
      "3              0.020  0.953599   0.976471           0.906627  0.912088\n",
      "4              0.152  0.768686   0.673077           0.504673  0.625000\n",
      "clf 5\n",
      "dataset 6\n",
      "          Error_Rate       AUC  Precision  Average_Precision    Recall\n",
      "Category                                                              \n",
      "0               0.26  0.739896   0.745098           0.685171  0.745098\n",
      "1               0.26  0.739896   0.734694           0.669775  0.734694\n",
      "clf 5\n",
      "dataset 7\n",
      "          Error_Rate       AUC  Precision  Average_Precision    Recall\n",
      "Category                                                              \n",
      "0               0.61  0.392982   0.380531            0.43224  0.452632\n",
      "1               0.61  0.392982   0.402299            0.48410  0.333333\n",
      "clf 5\n",
      "dataset 8\n",
      "          Error_Rate       AUC  Precision  Average_Precision    Recall\n",
      "Category                                                              \n",
      "0              0.505  0.553097   0.462766           0.462766  1.000000\n",
      "1              0.505  0.553097   1.000000           0.611195  0.106195\n",
      "clf 5\n",
      "dataset 9\n",
      "          Error_Rate      AUC  Precision  Average_Precision    Recall\n",
      "Category                                                             \n",
      "0              0.365  0.63742   0.603604           0.566265  0.697917\n",
      "1              0.365  0.63742   0.674157           0.608937  0.576923\n",
      "clf 5\n",
      "dataset 10\n",
      "          Error_Rate       AUC  Precision  Average_Precision    Recall\n",
      "Category                                                              \n",
      "0               0.51  0.500403   0.460317             0.4602  0.630435\n",
      "1               0.51  0.500403   0.540541             0.5402  0.370370\n",
      "clf 6\n",
      "dataset 1\n",
      "          Error_Rate       AUC  Precision  Average_Precision    Recall\n",
      "Category                                                              \n",
      "0              0.058  0.918750   0.838095           0.761524  0.880000\n",
      "1              0.100  0.842315   0.772277           0.627692  0.742857\n",
      "2              0.000  1.000000   1.000000           1.000000  1.000000\n",
      "3              0.046  0.929437   0.895238           0.817890  0.886792\n",
      "4              0.000  1.000000   1.000000           1.000000  1.000000\n",
      "clf 6\n",
      "dataset 2\n",
      "          Error_Rate   AUC  Precision  Average_Precision  Recall\n",
      "Category                                                        \n",
      "0               0.15  0.85   0.857143           0.800000    0.84\n",
      "1               0.15  0.85   0.843137           0.795098    0.86\n",
      "clf 6\n",
      "dataset 3\n",
      "          Error_Rate       AUC  Precision  Average_Precision    Recall\n",
      "Category                                                              \n",
      "0              0.085  0.914266   0.945055           0.889334  0.877551\n",
      "1              0.085  0.914266   0.889908           0.871285  0.950980\n",
      "clf 6\n",
      "dataset 4\n",
      "          Error_Rate       AUC  Precision  Average_Precision    Recall\n",
      "Category                                                              \n",
      "0              0.155  0.839204   0.838983           0.808282  0.891892\n",
      "1              0.155  0.839204   0.853659           0.766417  0.786517\n",
      "clf 6\n",
      "dataset 5\n",
      "          Error_Rate       AUC  Precision  Average_Precision    Recall\n",
      "Category                                                              \n",
      "0              0.000  1.000000   1.000000           1.000000  1.000000\n",
      "1              0.208  0.707246   0.495726           0.369147  0.563107\n",
      "2              0.018  0.971205   0.943820           0.908919  0.954545\n",
      "3              0.018  0.967637   0.955556           0.913053  0.945055\n",
      "4              0.208  0.678617   0.540816           0.373922  0.473214\n",
      "clf 6\n",
      "dataset 6\n"
     ]
    },
    {
     "name": "stdout",
     "output_type": "stream",
     "text": [
      "          Error_Rate       AUC  Precision  Average_Precision    Recall\n",
      "Category                                                              \n",
      "0               0.32  0.679672   0.682692           0.630207  0.696078\n",
      "1               0.32  0.679672   0.677083           0.614086  0.663265\n",
      "clf 6\n",
      "dataset 7\n",
      "          Error_Rate       AUC  Precision  Average_Precision    Recall\n",
      "Category                                                              \n",
      "0              0.235  0.763659   0.760870           0.685641  0.736842\n",
      "1              0.235  0.763659   0.768519           0.717496  0.790476\n",
      "clf 6\n",
      "dataset 8\n",
      "          Error_Rate      AUC  Precision  Average_Precision    Recall\n",
      "Category                                                             \n",
      "0                0.3  0.69881   0.645161           0.579939  0.689655\n",
      "1                0.3  0.69881   0.747664           0.694319  0.707965\n",
      "clf 6\n",
      "dataset 9\n",
      "          Error_Rate       AUC  Precision  Average_Precision    Recall\n",
      "Category                                                              \n",
      "0               0.43  0.570513   0.549020           0.520261  0.583333\n",
      "1               0.43  0.570513   0.591837           0.560063  0.557692\n",
      "clf 6\n",
      "dataset 10\n",
      "          Error_Rate       AUC  Precision  Average_Precision    Recall\n",
      "Category                                                              \n",
      "0               0.44  0.559581   0.520408           0.493487  0.554348\n",
      "1               0.44  0.559581   0.598039           0.572781  0.564815\n",
      "clf 7\n",
      "dataset 1\n",
      "          Error_Rate       AUC  Precision  Average_Precision    Recall\n",
      "Category                                                              \n",
      "0              0.032  0.961250   0.896226           0.861415  0.950000\n",
      "1              0.062  0.901326   0.862745           0.757063  0.838095\n",
      "2              0.000  1.000000   1.000000           1.000000  1.000000\n",
      "3              0.030  0.949933   0.941748           0.879788  0.915094\n",
      "4              0.000  1.000000   1.000000           1.000000  1.000000\n",
      "clf 7\n",
      "dataset 2\n",
      "          Error_Rate    AUC  Precision  Average_Precision  Recall\n",
      "Category                                                         \n",
      "0              0.135  0.865   0.861386           0.814406    0.87\n",
      "1              0.135  0.865   0.868687           0.817071    0.86\n",
      "clf 7\n",
      "dataset 3\n",
      "          Error_Rate       AUC  Precision  Average_Precision    Recall\n",
      "Category                                                              \n",
      "0              0.085  0.914866   0.917526           0.878263  0.908163\n",
      "1              0.085  0.914866   0.912621           0.881043  0.921569\n",
      "clf 7\n",
      "dataset 4\n",
      "          Error_Rate       AUC  Precision  Average_Precision    Recall\n",
      "Category                                                              \n",
      "0              0.155  0.838091   0.833333           0.805751  0.900901\n",
      "1              0.155  0.838091   0.862500           0.768680  0.775281\n",
      "clf 7\n",
      "dataset 5\n",
      "          Error_Rate       AUC  Precision  Average_Precision    Recall\n",
      "Category                                                              \n",
      "0              0.000  1.000000   1.000000           1.000000  1.000000\n",
      "1              0.182  0.759568   0.548387           0.432042  0.660194\n",
      "2              0.012  0.983782   0.955556           0.937838  0.977273\n",
      "3              0.012  0.975577   0.977528           0.942560  0.956044\n",
      "4              0.182  0.704897   0.615385           0.419692  0.500000\n",
      "clf 7\n",
      "dataset 6\n",
      "          Error_Rate       AUC  Precision  Average_Precision    Recall\n",
      "Category                                                              \n",
      "0               0.33  0.668267   0.652542           0.617606  0.754902\n",
      "1               0.33  0.668267   0.695122           0.609306  0.581633\n",
      "clf 7\n",
      "dataset 7\n",
      "          Error_Rate       AUC  Precision  Average_Precision    Recall\n",
      "Category                                                              \n",
      "0              0.235  0.765163   0.744898           0.682395  0.768421\n",
      "1              0.235  0.765163   0.784314           0.722572  0.761905\n",
      "clf 7\n",
      "dataset 8\n",
      "          Error_Rate       AUC  Precision  Average_Precision    Recall\n",
      "Category                                                              \n",
      "0              0.305  0.699674   0.627451           0.576573  0.735632\n",
      "1              0.305  0.699674   0.765306           0.697947  0.663717\n",
      "clf 7\n",
      "dataset 9\n",
      "          Error_Rate       AUC  Precision  Average_Precision    Recall\n",
      "Category                                                              \n",
      "0              0.475  0.527244   0.504505           0.494294  0.583333\n",
      "1              0.475  0.527244   0.550562           0.534399  0.471154\n",
      "clf 7\n",
      "dataset 10\n",
      "          Error_Rate       AUC  Precision  Average_Precision    Recall\n",
      "Category                                                              \n",
      "0              0.345  0.653986   0.621053           0.563284  0.641304\n",
      "1              0.345  0.653986   0.685714           0.637143  0.666667\n",
      "clf 8\n",
      "dataset 1\n"
     ]
    },
    {
     "name": "stderr",
     "output_type": "stream",
     "text": [
      "/anaconda3/lib/python3.7/site-packages/sklearn/neural_network/multilayer_perceptron.py:562: ConvergenceWarning: Stochastic Optimizer: Maximum iterations (200) reached and the optimization hasn't converged yet.\n",
      "  % self.max_iter, ConvergenceWarning)\n"
     ]
    },
    {
     "name": "stdout",
     "output_type": "stream",
     "text": [
      "          Error_Rate       AUC  Precision  Average_Precision    Recall\n",
      "Category                                                              \n",
      "0              0.030  0.958750   0.912621           0.869864  0.940000\n",
      "1              0.058  0.903858   0.880000           0.771524  0.838095\n",
      "2              0.000  1.000000   1.000000           1.000000  1.000000\n",
      "3              0.028  0.961546   0.925926           0.885515  0.943396\n",
      "4              0.000  1.000000   1.000000           1.000000  1.000000\n",
      "clf 8\n",
      "dataset 2\n",
      "          Error_Rate    AUC  Precision  Average_Precision  Recall\n",
      "Category                                                         \n",
      "0              0.135  0.865   0.868687           0.817071    0.86\n",
      "1              0.135  0.865   0.861386           0.814406    0.87\n",
      "clf 8\n",
      "dataset 3\n"
     ]
    },
    {
     "name": "stderr",
     "output_type": "stream",
     "text": [
      "/anaconda3/lib/python3.7/site-packages/sklearn/neural_network/multilayer_perceptron.py:562: ConvergenceWarning: Stochastic Optimizer: Maximum iterations (200) reached and the optimization hasn't converged yet.\n",
      "  % self.max_iter, ConvergenceWarning)\n"
     ]
    },
    {
     "name": "stdout",
     "output_type": "stream",
     "text": [
      "          Error_Rate      AUC  Precision  Average_Precision    Recall\n",
      "Category                                                             \n",
      "0                0.1  0.89956   0.914894           0.862866  0.877551\n",
      "1                0.1  0.89956   0.886792           0.857240  0.921569\n",
      "clf 8\n",
      "dataset 4\n"
     ]
    },
    {
     "name": "stderr",
     "output_type": "stream",
     "text": [
      "/anaconda3/lib/python3.7/site-packages/sklearn/neural_network/multilayer_perceptron.py:562: ConvergenceWarning: Stochastic Optimizer: Maximum iterations (200) reached and the optimization hasn't converged yet.\n",
      "  % self.max_iter, ConvergenceWarning)\n"
     ]
    },
    {
     "name": "stdout",
     "output_type": "stream",
     "text": [
      "          Error_Rate       AUC  Precision  Average_Precision    Recall\n",
      "Category                                                              \n",
      "0              0.135  0.856109   0.838710           0.820818  0.936937\n",
      "1              0.135  0.856109   0.907895           0.803873  0.775281\n",
      "clf 8\n",
      "dataset 5\n",
      "          Error_Rate       AUC  Precision  Average_Precision    Recall\n",
      "Category                                                              \n",
      "0              0.000  1.000000   1.000000           1.000000  1.000000\n",
      "1              0.150  0.779719   0.629630           0.485678  0.660194\n",
      "2              0.014  0.978100   0.955056           0.928497  0.965909\n",
      "3              0.014  0.974354   0.966667           0.932176  0.956044\n",
      "4              0.150  0.776325   0.672897           0.512577  0.642857\n",
      "clf 8\n",
      "dataset 6\n",
      "          Error_Rate       AUC  Precision  Average_Precision    Recall\n",
      "Category                                                              \n",
      "0              0.255  0.744798   0.747573           0.689344  0.754902\n",
      "1              0.255  0.744798   0.742268           0.675340  0.734694\n",
      "clf 8\n",
      "dataset 7\n",
      "          Error_Rate       AUC  Precision  Average_Precision    Recall\n",
      "Category                                                              \n",
      "0              0.235  0.765664       0.74           0.681421  0.778947\n",
      "1              0.235  0.765664       0.79           0.724381  0.752381\n",
      "clf 8\n",
      "dataset 8\n"
     ]
    },
    {
     "name": "stderr",
     "output_type": "stream",
     "text": [
      "/anaconda3/lib/python3.7/site-packages/sklearn/neural_network/multilayer_perceptron.py:562: ConvergenceWarning: Stochastic Optimizer: Maximum iterations (200) reached and the optimization hasn't converged yet.\n",
      "  % self.max_iter, ConvergenceWarning)\n"
     ]
    },
    {
     "name": "stdout",
     "output_type": "stream",
     "text": [
      "          Error_Rate       AUC  Precision  Average_Precision    Recall\n",
      "Category                                                              \n",
      "0              0.225  0.778405   0.714286           0.659713  0.804598\n",
      "1              0.225  0.778405   0.833333           0.766844  0.752212\n",
      "clf 8\n",
      "dataset 9\n",
      "          Error_Rate       AUC  Precision  Average_Precision    Recall\n",
      "Category                                                              \n",
      "0               0.38  0.623397   0.586207           0.555230  0.708333\n",
      "1               0.38  0.623397   0.666667           0.598974  0.538462\n",
      "clf 8\n",
      "dataset 10\n",
      "          Error_Rate       AUC  Precision  Average_Precision    Recall\n",
      "Category                                                              \n",
      "0               0.33  0.667069   0.644444           0.576280  0.630435\n",
      "1               0.33  0.667069   0.690909           0.646195  0.703704\n",
      "clf 9\n",
      "dataset 1\n",
      "          Error_Rate       AUC  Precision  Average_Precision    Recall\n",
      "Category                                                              \n",
      "0              0.034  0.952500   0.902913           0.853709  0.930000\n",
      "1              0.062  0.904822   0.855769           0.757366  0.847619\n",
      "2              0.000  1.000000   1.000000           1.000000  1.000000\n",
      "3              0.028  0.954650   0.942308           0.887190  0.924528\n",
      "4              0.000  1.000000   1.000000           1.000000  1.000000\n",
      "clf 9\n",
      "dataset 2\n",
      "          Error_Rate   AUC  Precision  Average_Precision  Recall\n",
      "Category                                                        \n",
      "0               0.14  0.86   0.875000           0.815000    0.84\n",
      "1               0.14  0.86   0.846154           0.804615    0.88\n",
      "clf 9\n",
      "dataset 3\n",
      "          Error_Rate       AUC  Precision  Average_Precision    Recall\n",
      "Category                                                              \n",
      "0               0.08  0.919368   0.945652           0.894508  0.887755\n",
      "1               0.08  0.919368   0.898148           0.879121  0.950980\n",
      "clf 9\n",
      "dataset 4\n",
      "          Error_Rate       AUC  Precision  Average_Precision    Recall\n",
      "Category                                                              \n",
      "0              0.155  0.839204   0.838983           0.808282  0.891892\n",
      "1              0.155  0.839204   0.853659           0.766417  0.786517\n",
      "clf 9\n",
      "dataset 5\n",
      "          Error_Rate       AUC  Precision  Average_Precision    Recall\n",
      "Category                                                              \n",
      "0              0.000  1.000000   1.000000           1.000000  1.000000\n",
      "1              0.162  0.779352   0.593220           0.469159  0.679612\n",
      "2              0.012  0.988250   0.945652           0.936906  0.988636\n",
      "3              0.012  0.971305   0.988506           0.944192  0.945055\n",
      "4              0.162  0.743189   0.659794           0.473025  0.571429\n",
      "clf 9\n",
      "dataset 6\n",
      "          Error_Rate       AUC  Precision  Average_Precision    Recall\n",
      "Category                                                              \n",
      "0              0.265  0.734394   0.728972           0.677449  0.764706\n",
      "1              0.265  0.734394   0.741935           0.667383  0.704082\n",
      "clf 9\n",
      "dataset 7\n",
      "          Error_Rate       AUC  Precision  Average_Precision    Recall\n",
      "Category                                                              \n",
      "0               0.23  0.768922   0.763441           0.690572  0.747368\n",
      "1               0.23  0.768922   0.775701           0.723173  0.790476\n",
      "clf 9\n",
      "dataset 8\n",
      "          Error_Rate       AUC  Precision  Average_Precision    Recall\n",
      "Category                                                              \n",
      "0              0.245  0.762028   0.682692           0.637140  0.816092\n",
      "1              0.245  0.762028   0.833333           0.754971  0.707965\n",
      "clf 9\n",
      "dataset 9\n",
      "          Error_Rate      AUC  Precision  Average_Precision    Recall\n",
      "Category                                                             \n",
      "0              0.385  0.61899   0.579832           0.551754  0.718750\n",
      "1              0.385  0.61899   0.666667           0.596154  0.519231\n",
      "clf 9\n",
      "dataset 10\n",
      "          Error_Rate       AUC  Precision  Average_Precision    Recall\n",
      "Category                                                              \n",
      "0               0.32  0.677939   0.652174           0.585331  0.652174\n",
      "1               0.32  0.677939   0.703704           0.655199  0.703704\n"
     ]
    }
   ],
   "source": [
    "for i, clf in enumerate(clfs):\n",
    "    for j, d in enumerate(data):\n",
    "        print('clf', i+1)\n",
    "        print('dataset', j+1)\n",
    "        clf.fit(np.stack(d[0]['vect'], axis=0), d[0]['category'])\n",
    "        print(lucem_illud.evaluateClassifier(clf, d[1]))"
   ]
  },
  {
   "cell_type": "code",
   "execution_count": 14,
   "id": "selected-january",
   "metadata": {},
   "outputs": [
    {
     "name": "stdout",
     "output_type": "stream",
     "text": [
      "Loading data for: comp.sys.mac.hardware\n",
      "Loading data for: comp.windows.x\n",
      "Loading data for: misc.forsale\n",
      "Loading data for: rec.autos\n",
      "Converting to vectors\n",
      "Loading senate data\n",
      "Converting to vectors\n",
      "Loading senator: Klobuchar\n",
      "Loading senator: Kyl\n",
      "Loading senator: Kerry\n",
      "Loading senator: Kohl\n",
      "Loading senator: Kennedy\n",
      "Converting to vectors\n"
     ]
    }
   ],
   "source": [
    "#Newsgroups, Senate Small, Senate Large, Email Spam\n",
    "dfTraina, dfTesta = lucem_illud.trainTestSplit(lucem_illud.loadNewsGroups())\n",
    "dfTrainb, dfTestb = lucem_illud.trainTestSplit(lucem_illud.loadSenateSmall())\n",
    "dfTrainc, dfTestc = lucem_illud.trainTestSplit(lucem_illud.loadSenateLarge())"
   ]
  },
  {
   "cell_type": "code",
   "execution_count": 15,
   "id": "angry-complexity",
   "metadata": {},
   "outputs": [],
   "source": [
    "real_data = [(dfTraina, dfTesta, 'News Groups'), \n",
    "             (dfTraina, dfTesta, 'Senate Small'), (dfTrainc, dfTestc, 'Senate Large')]"
   ]
  },
  {
   "cell_type": "code",
   "execution_count": 17,
   "id": "atomic-columbus",
   "metadata": {},
   "outputs": [
    {
     "name": "stdout",
     "output_type": "stream",
     "text": [
      "clf 1\n",
      "dataset News Groups\n",
      "                       Error_Rate       AUC  Precision  Average_Precision  \\\n",
      "Category                                                                    \n",
      "comp.sys.mac.hardware    0.148936  0.816970   0.689922           0.579822   \n",
      "rec.autos                0.089362  0.870350   0.798077           0.681608   \n",
      "comp.windows.x           0.070213  0.915837   0.864662           0.796808   \n",
      "misc.forsale             0.121277  0.819266   0.788462           0.627065   \n",
      "\n",
      "                         Recall  \n",
      "Category                         \n",
      "comp.sys.mac.hardware  0.747899  \n",
      "rec.autos              0.798077  \n",
      "comp.windows.x         0.884615  \n",
      "misc.forsale           0.700855  \n",
      "clf 1\n",
      "dataset Senate Small\n",
      "                       Error_Rate       AUC  Precision  Average_Precision  \\\n",
      "Category                                                                    \n",
      "comp.sys.mac.hardware    0.148936  0.816970   0.689922           0.579822   \n",
      "rec.autos                0.089362  0.870350   0.798077           0.681608   \n",
      "comp.windows.x           0.070213  0.915837   0.864662           0.796808   \n",
      "misc.forsale             0.121277  0.819266   0.788462           0.627065   \n",
      "\n",
      "                         Recall  \n",
      "Category                         \n",
      "comp.sys.mac.hardware  0.747899  \n",
      "rec.autos              0.798077  \n",
      "comp.windows.x         0.884615  \n",
      "misc.forsale           0.700855  \n",
      "clf 1\n",
      "dataset Senate Large\n",
      "           Error_Rate       AUC  Precision  Average_Precision    Recall\n",
      "Category                                                               \n",
      "Kohl         0.056410  0.714800   0.941176           0.460841  0.432432\n",
      "Kyl          0.085897  0.684062   0.926829           0.427341  0.372549\n",
      "Kerry        0.162821  0.762019   0.739645           0.550908  0.600962\n",
      "Kennedy      0.273077  0.756973   0.611789           0.598324  0.931889\n",
      "Klobuchar    0.050000  0.763587   0.886364           0.517126  0.534247\n",
      "clf 2\n",
      "dataset News Groups\n",
      "                       Error_Rate       AUC  Precision  Average_Precision  \\\n",
      "Category                                                                    \n",
      "comp.sys.mac.hardware    0.072340  0.893246   0.882883           0.771761   \n",
      "rec.autos                0.072340  0.936344   0.773438           0.746891   \n",
      "comp.windows.x           0.019149  0.970136   0.984000           0.945909   \n",
      "misc.forsale             0.074468  0.884712   0.886792           0.761402   \n",
      "\n",
      "                         Recall  \n",
      "Category                         \n",
      "comp.sys.mac.hardware  0.823529  \n",
      "rec.autos              0.951923  \n",
      "comp.windows.x         0.946154  \n",
      "misc.forsale           0.803419  \n",
      "clf 2\n",
      "dataset Senate Small\n",
      "                       Error_Rate       AUC  Precision  Average_Precision  \\\n",
      "Category                                                                    \n",
      "comp.sys.mac.hardware    0.072340  0.893246   0.882883           0.771761   \n",
      "rec.autos                0.072340  0.936344   0.773438           0.746891   \n",
      "comp.windows.x           0.019149  0.970136   0.984000           0.945909   \n",
      "misc.forsale             0.074468  0.884712   0.886792           0.761402   \n",
      "\n",
      "                         Recall  \n",
      "Category                         \n",
      "comp.sys.mac.hardware  0.823529  \n",
      "rec.autos              0.951923  \n",
      "comp.windows.x         0.946154  \n",
      "misc.forsale           0.803419  \n",
      "clf 2\n",
      "dataset Senate Large\n",
      "           Error_Rate       AUC  Precision  Average_Precision    Recall\n",
      "Category                                                               \n",
      "Kohl         0.005128  0.972973   1.000000           0.951074  0.945946\n",
      "Kyl          0.008974  0.969851   0.989691           0.939166  0.941176\n",
      "Kerry        0.012821  0.983610   0.975962           0.958911  0.975962\n",
      "Kennedy      0.029487  0.972566   0.946429           0.938188  0.984520\n",
      "Klobuchar    0.005128  0.972603   1.000000           0.950334  0.945205\n",
      "clf 3\n",
      "dataset News Groups\n"
     ]
    },
    {
     "name": "stderr",
     "output_type": "stream",
     "text": [
      "/anaconda3/lib/python3.7/site-packages/sklearn/metrics/classification.py:1143: UndefinedMetricWarning: Precision is ill-defined and being set to 0.0 due to no predicted samples.\n",
      "  'precision', 'predicted', average, warn_for)\n"
     ]
    },
    {
     "name": "stdout",
     "output_type": "stream",
     "text": [
      "                       Error_Rate  AUC  Precision  Average_Precision  Recall\n",
      "Category                                                                    \n",
      "comp.sys.mac.hardware    0.253191  0.5   0.000000           0.253191     0.0\n",
      "rec.autos                0.778723  0.5   0.221277           0.221277     1.0\n",
      "comp.windows.x           0.276596  0.5   0.000000           0.276596     0.0\n",
      "misc.forsale             0.248936  0.5   0.000000           0.248936     0.0\n",
      "clf 3\n",
      "dataset Senate Small\n"
     ]
    },
    {
     "name": "stderr",
     "output_type": "stream",
     "text": [
      "/anaconda3/lib/python3.7/site-packages/sklearn/metrics/classification.py:1143: UndefinedMetricWarning: Precision is ill-defined and being set to 0.0 due to no predicted samples.\n",
      "  'precision', 'predicted', average, warn_for)\n"
     ]
    },
    {
     "name": "stdout",
     "output_type": "stream",
     "text": [
      "                       Error_Rate  AUC  Precision  Average_Precision  Recall\n",
      "Category                                                                    \n",
      "comp.sys.mac.hardware    0.253191  0.5   0.000000           0.253191     0.0\n",
      "rec.autos                0.778723  0.5   0.221277           0.221277     1.0\n",
      "comp.windows.x           0.276596  0.5   0.000000           0.276596     0.0\n",
      "misc.forsale             0.248936  0.5   0.000000           0.248936     0.0\n",
      "clf 3\n",
      "dataset Senate Large\n"
     ]
    },
    {
     "name": "stderr",
     "output_type": "stream",
     "text": [
      "/anaconda3/lib/python3.7/site-packages/sklearn/metrics/classification.py:1143: UndefinedMetricWarning: Precision is ill-defined and being set to 0.0 due to no predicted samples.\n",
      "  'precision', 'predicted', average, warn_for)\n"
     ]
    },
    {
     "name": "stdout",
     "output_type": "stream",
     "text": [
      "           Error_Rate  AUC  Precision  Average_Precision  Recall\n",
      "Category                                                        \n",
      "Kohl         0.094872  0.5   0.000000           0.094872     0.0\n",
      "Kyl          0.130769  0.5   0.000000           0.130769     0.0\n",
      "Kerry        0.266667  0.5   0.000000           0.266667     0.0\n",
      "Kennedy      0.585897  0.5   0.414103           0.414103     1.0\n",
      "Klobuchar    0.093590  0.5   0.000000           0.093590     0.0\n",
      "clf 4\n",
      "dataset News Groups\n",
      "                       Error_Rate       AUC  Precision  Average_Precision  \\\n",
      "Category                                                                    \n",
      "comp.sys.mac.hardware    0.431915  0.538641   0.287879           0.269806   \n",
      "rec.autos                0.448936  0.549995   0.257919           0.241359   \n",
      "comp.windows.x           0.225532  0.592308   1.000000           0.410147   \n",
      "misc.forsale             0.255319  0.530036   0.444444           0.268988   \n",
      "\n",
      "                         Recall  \n",
      "Category                         \n",
      "comp.sys.mac.hardware  0.478992  \n",
      "rec.autos              0.548077  \n",
      "comp.windows.x         0.184615  \n",
      "misc.forsale           0.102564  \n",
      "clf 4\n",
      "dataset Senate Small\n",
      "                       Error_Rate       AUC  Precision  Average_Precision  \\\n",
      "Category                                                                    \n",
      "comp.sys.mac.hardware    0.431915  0.538641   0.287879           0.269806   \n",
      "rec.autos                0.448936  0.549995   0.257919           0.241359   \n",
      "comp.windows.x           0.225532  0.592308   1.000000           0.410147   \n",
      "misc.forsale             0.255319  0.530036   0.444444           0.268988   \n",
      "\n",
      "                         Recall  \n",
      "Category                         \n",
      "comp.sys.mac.hardware  0.478992  \n",
      "rec.autos              0.548077  \n",
      "comp.windows.x         0.184615  \n",
      "misc.forsale           0.102564  \n",
      "clf 4\n",
      "dataset Senate Large\n",
      "           Error_Rate       AUC  Precision  Average_Precision    Recall\n",
      "Category                                                               \n",
      "Kohl         0.033333  0.842470   0.944444           0.680388  0.689189\n",
      "Kyl          0.066667  0.799237   0.828947           0.561997  0.617647\n",
      "Kerry        0.141026  0.787587   0.795181           0.602070  0.634615\n",
      "Kennedy      0.191026  0.825179   0.707143           0.683554  0.919505\n",
      "Klobuchar    0.021795  0.908130   0.937500           0.787215  0.821918\n",
      "clf 5\n",
      "dataset News Groups\n",
      "                       Error_Rate       AUC  Precision  Average_Precision  \\\n",
      "Category                                                                    \n",
      "comp.sys.mac.hardware    0.072340  0.884915   0.904762           0.773353   \n",
      "rec.autos                0.078723  0.928804   0.759690           0.728628   \n",
      "comp.windows.x           0.027660  0.966629   0.946565           0.915643   \n",
      "misc.forsale             0.072340  0.886129   0.895238           0.768187   \n",
      "\n",
      "                         Recall  \n",
      "Category                         \n",
      "comp.sys.mac.hardware  0.798319  \n",
      "rec.autos              0.942308  \n",
      "comp.windows.x         0.953846  \n",
      "misc.forsale           0.803419  \n",
      "clf 5\n",
      "dataset Senate Small\n",
      "                       Error_Rate       AUC  Precision  Average_Precision  \\\n",
      "Category                                                                    \n",
      "comp.sys.mac.hardware    0.072340  0.884915   0.904762           0.773353   \n",
      "rec.autos                0.078723  0.928804   0.759690           0.728628   \n",
      "comp.windows.x           0.027660  0.966629   0.946565           0.915643   \n",
      "misc.forsale             0.072340  0.886129   0.895238           0.768187   \n",
      "\n",
      "                         Recall  \n",
      "Category                         \n",
      "comp.sys.mac.hardware  0.798319  \n",
      "rec.autos              0.942308  \n",
      "comp.windows.x         0.953846  \n",
      "misc.forsale           0.803419  \n",
      "clf 5\n",
      "dataset Senate Large\n",
      "           Error_Rate       AUC  Precision  Average_Precision    Recall\n",
      "Category                                                               \n",
      "Kohl         0.007692  0.959459   1.000000           0.926611  0.918919\n",
      "Kyl          0.023077  0.911765   1.000000           0.846606  0.823529\n",
      "Kerry        0.017949  0.973995   0.975490           0.944820  0.956731\n",
      "Kennedy      0.050000  0.955969   0.898876           0.894374  0.990712\n",
      "Klobuchar    0.006410  0.965753   1.000000           0.937917  0.931507\n",
      "clf 6\n",
      "dataset News Groups\n",
      "                       Error_Rate       AUC  Precision  Average_Precision  \\\n",
      "Category                                                                    \n",
      "comp.sys.mac.hardware    0.165957  0.777802   0.675214           0.533357   \n",
      "rec.autos                0.134043  0.848545   0.658915           0.578962   \n",
      "comp.windows.x           0.095745  0.853054   0.897196           0.734885   \n",
      "misc.forsale             0.153191  0.795162   0.692308           0.555886   \n",
      "\n",
      "                         Recall  \n",
      "Category                         \n",
      "comp.sys.mac.hardware  0.663866  \n",
      "rec.autos              0.817308  \n",
      "comp.windows.x         0.738462  \n",
      "misc.forsale           0.692308  \n",
      "clf 6\n",
      "dataset Senate Small\n",
      "                       Error_Rate       AUC  Precision  Average_Precision  \\\n",
      "Category                                                                    \n",
      "comp.sys.mac.hardware    0.163830  0.770895   0.690909           0.532742   \n",
      "rec.autos                0.129787  0.844394   0.674797           0.583221   \n",
      "comp.windows.x           0.100000  0.857240   0.860870           0.721543   \n",
      "misc.forsale             0.163830  0.788080   0.663934           0.536243   \n",
      "\n",
      "                         Recall  \n",
      "Category                         \n",
      "comp.sys.mac.hardware  0.638655  \n",
      "rec.autos              0.798077  \n",
      "comp.windows.x         0.761538  \n",
      "misc.forsale           0.692308  \n",
      "clf 6\n",
      "dataset Senate Large\n",
      "           Error_Rate       AUC  Precision  Average_Precision    Recall\n",
      "Category                                                               \n",
      "Kohl         0.002564  0.986486   1.000000           0.975537  0.972973\n",
      "Kyl          0.001282  0.999263   0.990291           0.990291  1.000000\n",
      "Kerry        0.000000  1.000000   1.000000           1.000000  1.000000\n",
      "Kennedy      0.000000  1.000000   1.000000           1.000000  1.000000\n",
      "Klobuchar    0.001282  0.999293   0.986486           0.986486  1.000000\n",
      "clf 7\n",
      "dataset News Groups\n",
      "                       Error_Rate       AUC  Precision  Average_Precision  \\\n",
      "Category                                                                    \n",
      "comp.sys.mac.hardware    0.134043  0.829718   0.725806           0.610631   \n",
      "rec.autos                0.102128  0.879361   0.733333           0.654555   \n",
      "comp.windows.x           0.074468  0.903394   0.874016           0.786701   \n",
      "misc.forsale             0.093617  0.849108   0.868687           0.704479   \n",
      "\n",
      "                         Recall  \n",
      "Category                         \n",
      "comp.sys.mac.hardware  0.756303  \n",
      "rec.autos              0.846154  \n",
      "comp.windows.x         0.853846  \n",
      "misc.forsale           0.735043  \n",
      "clf 7\n",
      "dataset Senate Small\n",
      "                       Error_Rate       AUC  Precision  Average_Precision  \\\n",
      "Category                                                                    \n",
      "comp.sys.mac.hardware    0.127660  0.831215   0.747899           0.623183   \n",
      "rec.autos                0.108511  0.854613   0.738739           0.629276   \n",
      "comp.windows.x           0.080851  0.901357   0.848485           0.769300   \n",
      "misc.forsale             0.104255  0.847740   0.814815           0.674554   \n",
      "\n",
      "                         Recall  \n",
      "Category                         \n",
      "comp.sys.mac.hardware  0.747899  \n",
      "rec.autos              0.788462  \n",
      "comp.windows.x         0.861538  \n",
      "misc.forsale           0.752137  \n",
      "clf 7\n",
      "dataset Senate Large\n",
      "           Error_Rate       AUC  Precision  Average_Precision    Recall\n",
      "Category                                                               \n",
      "Kohl         0.005128  0.991119   0.960526           0.948828  0.986486\n",
      "Kyl          0.002564  0.990196   1.000000           0.982956  0.980392\n",
      "Kerry        0.007692  0.988636   0.990291           0.976375  0.980769\n",
      "Kennedy      0.015385  0.985963   0.969789           0.966348  0.993808\n",
      "Klobuchar    0.010256  0.951348   0.985075           0.899590  0.904110\n",
      "clf 8\n",
      "dataset News Groups\n",
      "                       Error_Rate       AUC  Precision  Average_Precision  \\\n",
      "Category                                                                    \n",
      "comp.sys.mac.hardware    0.070213  0.903002   0.870690           0.777287   \n",
      "rec.autos                0.068085  0.928752   0.800000           0.755483   \n",
      "comp.windows.x           0.019149  0.972511   0.976378           0.944080   \n",
      "misc.forsale             0.080851  0.877606   0.869159           0.741934   \n",
      "\n",
      "                         Recall  \n",
      "Category                         \n",
      "comp.sys.mac.hardware  0.848739  \n",
      "rec.autos              0.923077  \n",
      "comp.windows.x         0.953846  \n",
      "misc.forsale           0.794872  \n",
      "clf 8\n",
      "dataset Senate Small\n"
     ]
    },
    {
     "name": "stdout",
     "output_type": "stream",
     "text": [
      "                       Error_Rate       AUC  Precision  Average_Precision  \\\n",
      "Category                                                                    \n",
      "comp.sys.mac.hardware    0.074468  0.900153   0.855932           0.764761   \n",
      "rec.autos                0.070213  0.923944   0.798319           0.748383   \n",
      "comp.windows.x           0.019149  0.972511   0.976378           0.944080   \n",
      "misc.forsale             0.082979  0.873332   0.867925           0.735662   \n",
      "\n",
      "                         Recall  \n",
      "Category                         \n",
      "comp.sys.mac.hardware  0.848739  \n",
      "rec.autos              0.913462  \n",
      "comp.windows.x         0.953846  \n",
      "misc.forsale           0.786325  \n",
      "clf 8\n",
      "dataset Senate Large\n",
      "           Error_Rate       AUC  Precision  Average_Precision    Recall\n",
      "Category                                                               \n",
      "Kohl         0.002564  0.986486   1.000000           0.975537  0.972973\n",
      "Kyl          0.015385  0.953670   0.968750           0.894811  0.911765\n",
      "Kerry        0.032051  0.953671   0.955224           0.902258  0.923077\n",
      "Kennedy      0.038462  0.964454   0.929619           0.920043  0.981424\n",
      "Klobuchar    0.008974  0.964339   0.971429           0.911303  0.931507\n",
      "clf 9\n",
      "dataset News Groups\n",
      "                       Error_Rate       AUC  Precision  Average_Precision  \\\n",
      "Category                                                                    \n",
      "comp.sys.mac.hardware    0.102128  0.842754   0.844660           0.685610   \n",
      "rec.autos                0.136170  0.864386   0.642857           0.586106   \n",
      "comp.windows.x           0.063830  0.913122   0.903226           0.816462   \n",
      "misc.forsale             0.089362  0.860512   0.864078           0.716864   \n",
      "\n",
      "                         Recall  \n",
      "Category                         \n",
      "comp.sys.mac.hardware  0.731092  \n",
      "rec.autos              0.865385  \n",
      "comp.windows.x         0.861538  \n",
      "misc.forsale           0.760684  \n",
      "clf 9\n",
      "dataset Senate Small\n",
      "                       Error_Rate       AUC  Precision  Average_Precision  \\\n",
      "Category                                                                    \n",
      "comp.sys.mac.hardware    0.110638  0.834279   0.819048           0.662130   \n",
      "rec.autos                0.121277  0.873949   0.676692           0.615386   \n",
      "comp.windows.x           0.065957  0.911652   0.896000           0.810236   \n",
      "misc.forsale             0.093617  0.860536   0.841121           0.704463   \n",
      "\n",
      "                         Recall  \n",
      "Category                         \n",
      "comp.sys.mac.hardware  0.722689  \n",
      "rec.autos              0.865385  \n",
      "comp.windows.x         0.861538  \n",
      "misc.forsale           0.769231  \n",
      "clf 9\n",
      "dataset Senate Large\n",
      "           Error_Rate       AUC  Precision  Average_Precision    Recall\n",
      "Category                                                               \n",
      "Kohl         0.001282  0.993243   1.000000           0.987769  0.986486\n",
      "Kyl          0.000000  1.000000   1.000000           1.000000  1.000000\n",
      "Kerry        0.000000  1.000000   1.000000           1.000000  1.000000\n",
      "Kennedy      0.001282  0.998906   0.996914           0.996914  1.000000\n",
      "Klobuchar    0.000000  1.000000   1.000000           1.000000  1.000000\n"
     ]
    }
   ],
   "source": [
    "for i, clf in enumerate(clfs):\n",
    "    for j, d in enumerate(real_data):\n",
    "        print('clf', i+1)\n",
    "        print('dataset', d[2])\n",
    "        clf.fit(np.stack(d[0]['vect'], axis=0), d[0]['category'])\n",
    "        print(lucem_illud.evaluateClassifier(clf, d[1]))"
   ]
  },
  {
   "cell_type": "markdown",
   "id": "incorrect-contribution",
   "metadata": {},
   "source": [
    "## <font color=\"red\">*Exercise 3*</font>\n",
    "\n",
    "<font color=\"red\">In the cells immediately following, perform logistic regression classification using training, testing and extrapolation (uncoded) data from texts and hand-classifications associated with your final project (e.g., these could be crowd-sourced codes gathered through Amazon Mechanical Turk in Exercise 1). Visualize the confusion matrix for training and testing sets. Calculate precision, recall, the F-measure, and AUC, then perform an ROC visualization. How do these classifiers perform? Exrapolate codes from these models to all uncoded data.\n"
   ]
  },
  {
   "cell_type": "markdown",
   "id": "independent-elizabeth",
   "metadata": {},
   "source": [
    "The logistic classifier in general performs well in distinguishing fake news and real news."
   ]
  },
  {
   "cell_type": "code",
   "execution_count": 18,
   "id": "compliant-walker",
   "metadata": {},
   "outputs": [],
   "source": [
    "fknews = pandas.read_csv('fakenews.csv')"
   ]
  },
  {
   "cell_type": "code",
   "execution_count": 19,
   "id": "popular-enclosure",
   "metadata": {
    "scrolled": true
   },
   "outputs": [
    {
     "data": {
      "text/html": [
       "<div>\n",
       "<style scoped>\n",
       "    .dataframe tbody tr th:only-of-type {\n",
       "        vertical-align: middle;\n",
       "    }\n",
       "\n",
       "    .dataframe tbody tr th {\n",
       "        vertical-align: top;\n",
       "    }\n",
       "\n",
       "    .dataframe thead th {\n",
       "        text-align: right;\n",
       "    }\n",
       "</style>\n",
       "<table border=\"1\" class=\"dataframe\">\n",
       "  <thead>\n",
       "    <tr style=\"text-align: right;\">\n",
       "      <th></th>\n",
       "      <th>id</th>\n",
       "      <th>tweet</th>\n",
       "      <th>label</th>\n",
       "    </tr>\n",
       "  </thead>\n",
       "  <tbody>\n",
       "    <tr>\n",
       "      <th>0</th>\n",
       "      <td>1</td>\n",
       "      <td>The CDC currently reports 99031 deaths. In gen...</td>\n",
       "      <td>real</td>\n",
       "    </tr>\n",
       "    <tr>\n",
       "      <th>1</th>\n",
       "      <td>2</td>\n",
       "      <td>States reported 1121 deaths a small rise from ...</td>\n",
       "      <td>real</td>\n",
       "    </tr>\n",
       "    <tr>\n",
       "      <th>2</th>\n",
       "      <td>3</td>\n",
       "      <td>Politically Correct Woman (Almost) Uses Pandem...</td>\n",
       "      <td>fake</td>\n",
       "    </tr>\n",
       "    <tr>\n",
       "      <th>3</th>\n",
       "      <td>4</td>\n",
       "      <td>#IndiaFightsCorona: We have 1524 #COVID testin...</td>\n",
       "      <td>real</td>\n",
       "    </tr>\n",
       "    <tr>\n",
       "      <th>4</th>\n",
       "      <td>5</td>\n",
       "      <td>Populous states can generate large case counts...</td>\n",
       "      <td>real</td>\n",
       "    </tr>\n",
       "  </tbody>\n",
       "</table>\n",
       "</div>"
      ],
      "text/plain": [
       "   id                                              tweet label\n",
       "0   1  The CDC currently reports 99031 deaths. In gen...  real\n",
       "1   2  States reported 1121 deaths a small rise from ...  real\n",
       "2   3  Politically Correct Woman (Almost) Uses Pandem...  fake\n",
       "3   4  #IndiaFightsCorona: We have 1524 #COVID testin...  real\n",
       "4   5  Populous states can generate large case counts...  real"
      ]
     },
     "execution_count": 19,
     "metadata": {},
     "output_type": "execute_result"
    }
   ],
   "source": [
    "fknews.head()"
   ]
  },
  {
   "cell_type": "code",
   "execution_count": 20,
   "id": "engaged-consortium",
   "metadata": {},
   "outputs": [],
   "source": [
    "holdBackFraction = .2\n",
    "train_data_df, test_data_df = sklearn.model_selection.train_test_split(fknews, test_size=holdBackFraction)"
   ]
  },
  {
   "cell_type": "code",
   "execution_count": 21,
   "id": "formal-planner",
   "metadata": {},
   "outputs": [
    {
     "name": "stdout",
     "output_type": "stream",
     "text": [
      "5136\n",
      "1284\n"
     ]
    }
   ],
   "source": [
    "print(len(train_data_df))\n",
    "print(len(test_data_df))"
   ]
  },
  {
   "cell_type": "code",
   "execution_count": 22,
   "id": "ethical-tuning",
   "metadata": {},
   "outputs": [],
   "source": [
    "TFVectorizer = sklearn.feature_extraction.text.TfidfVectorizer(max_df=100, min_df=2, stop_words='english', norm='l2')\n",
    "TFVects = TFVectorizer.fit_transform(train_data_df['tweet'])"
   ]
  },
  {
   "cell_type": "code",
   "execution_count": 23,
   "id": "encouraging-brush",
   "metadata": {},
   "outputs": [
    {
     "data": {
      "text/plain": [
       "(5136, 5692)"
      ]
     },
     "execution_count": 23,
     "metadata": {},
     "output_type": "execute_result"
    }
   ],
   "source": [
    "TFVects.shape"
   ]
  },
  {
   "cell_type": "code",
   "execution_count": 24,
   "id": "moved-intent",
   "metadata": {},
   "outputs": [
    {
     "name": "stderr",
     "output_type": "stream",
     "text": [
      "/anaconda3/lib/python3.7/site-packages/ipykernel_launcher.py:1: SettingWithCopyWarning: \n",
      "A value is trying to be set on a copy of a slice from a DataFrame.\n",
      "Try using .loc[row_indexer,col_indexer] = value instead\n",
      "\n",
      "See the caveats in the documentation: https://pandas.pydata.org/pandas-docs/stable/user_guide/indexing.html#returning-a-view-versus-a-copy\n",
      "  \"\"\"Entry point for launching an IPython kernel.\n"
     ]
    }
   ],
   "source": [
    "train_data_df['vect'] = [np.array(v).flatten() for v in TFVects.todense()]"
   ]
  },
  {
   "cell_type": "code",
   "execution_count": 25,
   "id": "partial-coordination",
   "metadata": {},
   "outputs": [],
   "source": [
    "pca = sklearn.decomposition.PCA()\n",
    "reduced_data = pca.fit_transform(np.stack(train_data_df['vect'], axis=0))"
   ]
  },
  {
   "cell_type": "code",
   "execution_count": 26,
   "id": "significant-death",
   "metadata": {
    "scrolled": true
   },
   "outputs": [
    {
     "name": "stderr",
     "output_type": "stream",
     "text": [
      "/anaconda3/lib/python3.7/site-packages/ipykernel_launcher.py:1: SettingWithCopyWarning: \n",
      "A value is trying to be set on a copy of a slice from a DataFrame.\n",
      "Try using .loc[row_indexer,col_indexer] = value instead\n",
      "\n",
      "See the caveats in the documentation: https://pandas.pydata.org/pandas-docs/stable/user_guide/indexing.html#returning-a-view-versus-a-copy\n",
      "  \"\"\"Entry point for launching an IPython kernel.\n"
     ]
    }
   ],
   "source": [
    "train_data_df['pca'] = [r for r in reduced_data]"
   ]
  },
  {
   "cell_type": "code",
   "execution_count": 32,
   "id": "korean-indian",
   "metadata": {},
   "outputs": [],
   "source": [
    "def helper(x):\n",
    "    if x =='fake':\n",
    "        rv = False\n",
    "    else:\n",
    "        rv = True\n",
    "    return rv"
   ]
  },
  {
   "cell_type": "code",
   "execution_count": 33,
   "id": "printable-reporter",
   "metadata": {},
   "outputs": [
    {
     "name": "stderr",
     "output_type": "stream",
     "text": [
      "/anaconda3/lib/python3.7/site-packages/ipykernel_launcher.py:1: SettingWithCopyWarning: \n",
      "A value is trying to be set on a copy of a slice from a DataFrame.\n",
      "Try using .loc[row_indexer,col_indexer] = value instead\n",
      "\n",
      "See the caveats in the documentation: https://pandas.pydata.org/pandas-docs/stable/user_guide/indexing.html#returning-a-view-versus-a-copy\n",
      "  \"\"\"Entry point for launching an IPython kernel.\n"
     ]
    }
   ],
   "source": [
    "train_data_df['category']=train_data_df['label'].apply(helper)"
   ]
  },
  {
   "cell_type": "code",
   "execution_count": 45,
   "id": "deadly-accreditation",
   "metadata": {},
   "outputs": [
    {
     "name": "stderr",
     "output_type": "stream",
     "text": [
      "/anaconda3/lib/python3.7/site-packages/ipykernel_launcher.py:1: SettingWithCopyWarning: \n",
      "A value is trying to be set on a copy of a slice from a DataFrame.\n",
      "Try using .loc[row_indexer,col_indexer] = value instead\n",
      "\n",
      "See the caveats in the documentation: https://pandas.pydata.org/pandas-docs/stable/user_guide/indexing.html#returning-a-view-versus-a-copy\n",
      "  \"\"\"Entry point for launching an IPython kernel.\n"
     ]
    }
   ],
   "source": [
    "test_data_df['category']=test_data_df['label'].apply(helper)"
   ]
  },
  {
   "cell_type": "code",
   "execution_count": 35,
   "id": "attempted-decrease",
   "metadata": {},
   "outputs": [
    {
     "data": {
      "text/html": [
       "<div>\n",
       "<style scoped>\n",
       "    .dataframe tbody tr th:only-of-type {\n",
       "        vertical-align: middle;\n",
       "    }\n",
       "\n",
       "    .dataframe tbody tr th {\n",
       "        vertical-align: top;\n",
       "    }\n",
       "\n",
       "    .dataframe thead th {\n",
       "        text-align: right;\n",
       "    }\n",
       "</style>\n",
       "<table border=\"1\" class=\"dataframe\">\n",
       "  <thead>\n",
       "    <tr style=\"text-align: right;\">\n",
       "      <th></th>\n",
       "      <th>id</th>\n",
       "      <th>tweet</th>\n",
       "      <th>label</th>\n",
       "      <th>vect</th>\n",
       "      <th>pca</th>\n",
       "      <th>category</th>\n",
       "    </tr>\n",
       "  </thead>\n",
       "  <tbody>\n",
       "    <tr>\n",
       "      <th>5797</th>\n",
       "      <td>5798</td>\n",
       "      <td>$3 trillion for federal coronavirus stimulus p...</td>\n",
       "      <td>fake</td>\n",
       "      <td>[0.0, 0.0, 0.0, 0.0, 0.0, 0.0, 0.0, 0.0, 0.0, ...</td>\n",
       "      <td>[-0.014477706178702135, -0.013978325111586122,...</td>\n",
       "      <td>False</td>\n",
       "    </tr>\n",
       "    <tr>\n",
       "      <th>1540</th>\n",
       "      <td>1541</td>\n",
       "      <td>Pedro Sanchez president of government of Spain...</td>\n",
       "      <td>fake</td>\n",
       "      <td>[0.0, 0.0, 0.0, 0.0, 0.0, 0.0, 0.0, 0.0, 0.0, ...</td>\n",
       "      <td>[-0.010983810096409991, -0.01010509717303584, ...</td>\n",
       "      <td>False</td>\n",
       "    </tr>\n",
       "    <tr>\n",
       "      <th>3510</th>\n",
       "      <td>3511</td>\n",
       "      <td>In a photo of Pakistani Prime Minister Imran K...</td>\n",
       "      <td>fake</td>\n",
       "      <td>[0.0, 0.0, 0.0, 0.0, 0.0, 0.0, 0.0, 0.0, 0.0, ...</td>\n",
       "      <td>[-0.018870729565811022, -0.02070767639957562, ...</td>\n",
       "      <td>False</td>\n",
       "    </tr>\n",
       "    <tr>\n",
       "      <th>2914</th>\n",
       "      <td>2915</td>\n",
       "      <td>South Carolina reported 72 new deaths 30 more ...</td>\n",
       "      <td>real</td>\n",
       "      <td>[0.0, 0.0, 0.0, 0.0, 0.0, 0.0, 0.0, 0.0, 0.0, ...</td>\n",
       "      <td>[0.005750529006751852, -0.012886712184129645, ...</td>\n",
       "      <td>True</td>\n",
       "    </tr>\n",
       "    <tr>\n",
       "      <th>2425</th>\n",
       "      <td>2426</td>\n",
       "      <td>#CoronaVirusUpdates: 📍Total #COVID19 Cases in ...</td>\n",
       "      <td>real</td>\n",
       "      <td>[0.0, 0.0, 0.0, 0.0, 0.2951450981094504, 0.0, ...</td>\n",
       "      <td>[0.041181630742350046, -0.003889286478694469, ...</td>\n",
       "      <td>True</td>\n",
       "    </tr>\n",
       "  </tbody>\n",
       "</table>\n",
       "</div>"
      ],
      "text/plain": [
       "        id                                              tweet label  \\\n",
       "5797  5798  $3 trillion for federal coronavirus stimulus p...  fake   \n",
       "1540  1541  Pedro Sanchez president of government of Spain...  fake   \n",
       "3510  3511  In a photo of Pakistani Prime Minister Imran K...  fake   \n",
       "2914  2915  South Carolina reported 72 new deaths 30 more ...  real   \n",
       "2425  2426  #CoronaVirusUpdates: 📍Total #COVID19 Cases in ...  real   \n",
       "\n",
       "                                                   vect  \\\n",
       "5797  [0.0, 0.0, 0.0, 0.0, 0.0, 0.0, 0.0, 0.0, 0.0, ...   \n",
       "1540  [0.0, 0.0, 0.0, 0.0, 0.0, 0.0, 0.0, 0.0, 0.0, ...   \n",
       "3510  [0.0, 0.0, 0.0, 0.0, 0.0, 0.0, 0.0, 0.0, 0.0, ...   \n",
       "2914  [0.0, 0.0, 0.0, 0.0, 0.0, 0.0, 0.0, 0.0, 0.0, ...   \n",
       "2425  [0.0, 0.0, 0.0, 0.0, 0.2951450981094504, 0.0, ...   \n",
       "\n",
       "                                                    pca  category  \n",
       "5797  [-0.014477706178702135, -0.013978325111586122,...     False  \n",
       "1540  [-0.010983810096409991, -0.01010509717303584, ...     False  \n",
       "3510  [-0.018870729565811022, -0.02070767639957562, ...     False  \n",
       "2914  [0.005750529006751852, -0.012886712184129645, ...      True  \n",
       "2425  [0.041181630742350046, -0.003889286478694469, ...      True  "
      ]
     },
     "execution_count": 35,
     "metadata": {},
     "output_type": "execute_result"
    }
   ],
   "source": [
    "train_data_df.head()"
   ]
  },
  {
   "cell_type": "code",
   "execution_count": 38,
   "id": "senior-quest",
   "metadata": {},
   "outputs": [
    {
     "name": "stderr",
     "output_type": "stream",
     "text": [
      "'c' argument looks like a single numeric RGB or RGBA sequence, which should be avoided as value-mapping will have precedence in case its length matches with 'x' & 'y'.  Please use a 2-D array with a single row if you really want to specify the same RGB or RGBA value for all points.\n",
      "'c' argument looks like a single numeric RGB or RGBA sequence, which should be avoided as value-mapping will have precedence in case its length matches with 'x' & 'y'.  Please use a 2-D array with a single row if you really want to specify the same RGB or RGBA value for all points.\n"
     ]
    },
    {
     "data": {
      "image/png": "[encoded data removed]",
      "text/plain": [
       "<Figure size 720x720 with 1 Axes>"
      ]
     },
     "metadata": {
      "needs_background": "light"
     },
     "output_type": "display_data"
    }
   ],
   "source": [
    "fig, ax = plt.subplots(figsize = (10,10))\n",
    "ax.axis('off')\n",
    "pallet = seaborn.color_palette(palette='coolwarm', n_colors = 2)\n",
    "\n",
    "#Plot Real\n",
    "a = np.stack(train_data_df[train_data_df['category']]['pca'])\n",
    "ax.scatter(a[:,0], a[:, 1], c = pallet[0], label = \"Real\")\n",
    "\n",
    "#Plot not False\n",
    "a = np.stack(train_data_df[train_data_df['category'].eq(False)]['pca'])\n",
    "ax.scatter(a[:,0], a[:, 1], c = pallet[1], label = \"False\")\n",
    "    \n",
    "ax.legend(loc = 'upper right', title = 'Is Real')\n",
    "plt.title('True Classes, Training Set')\n",
    "plt.show()"
   ]
  },
  {
   "cell_type": "code",
   "execution_count": 39,
   "id": "potential-sigma",
   "metadata": {
    "scrolled": true
   },
   "outputs": [
    {
     "data": {
      "image/png": "[encoded data removed]",
      "text/plain": [
       "<Figure size 1152x360 with 3 Axes>"
      ]
     },
     "metadata": {
      "needs_background": "light"
     },
     "output_type": "display_data"
    }
   ],
   "source": [
    "n = len(train_data_df)\n",
    "\n",
    "fig, (ax1, ax2, ax3) = plt.subplots(ncols=3, figsize = (16, 5), sharey=True)\n",
    "\n",
    "eigen_vals = np.arange(n) + 1\n",
    "ax1.plot(eigen_vals, pca.explained_variance_ratio_, 'ro-', linewidth=1)\n",
    "ax1.set_title('Scree Plot (Full)')\n",
    "ax1.set_xlabel('Principal Component')\n",
    "ax1.set_ylabel('Proportion of Explained Variance')\n",
    "\n",
    "eigen_vals = np.arange(50) + 1\n",
    "ax2.plot(eigen_vals, pca.explained_variance_ratio_[:50], 'ro-', linewidth=1)\n",
    "ax2.set_title('Scree Plot (First 50 Principal Components)')\n",
    "ax2.set_xlabel('Principal Component')\n",
    "ax2.set_ylabel('Proportion of Explained Variance')\n",
    "\n",
    "\n",
    "eigen_vals = np.arange(20) + 1\n",
    "ax3.plot(eigen_vals, pca.explained_variance_ratio_[:20], 'ro-', linewidth=2)\n",
    "ax3.set_title('Scree Plot (First 50 Principal Components)')\n",
    "ax3.set_xlabel('Principal Component')\n",
    "ax3.set_ylabel('Proportion of Explained Variance')\n",
    "\n",
    "plt.show()"
   ]
  },
  {
   "cell_type": "code",
   "execution_count": 40,
   "id": "silent-oasis",
   "metadata": {},
   "outputs": [
    {
     "name": "stderr",
     "output_type": "stream",
     "text": [
      "/anaconda3/lib/python3.7/site-packages/ipykernel_launcher.py:1: SettingWithCopyWarning: \n",
      "A value is trying to be set on a copy of a slice from a DataFrame.\n",
      "Try using .loc[row_indexer,col_indexer] = value instead\n",
      "\n",
      "See the caveats in the documentation: https://pandas.pydata.org/pandas-docs/stable/user_guide/indexing.html#returning-a-view-versus-a-copy\n",
      "  \"\"\"Entry point for launching an IPython kernel.\n"
     ]
    }
   ],
   "source": [
    "train_data_df['pca_reduced_10'] = train_data_df['pca'].apply(lambda x: x[:10])"
   ]
  },
  {
   "cell_type": "markdown",
   "id": "headed-synthetic",
   "metadata": {},
   "source": [
    "Now we fit a logistic regression to our data."
   ]
  },
  {
   "cell_type": "code",
   "execution_count": 41,
   "id": "guilty-priority",
   "metadata": {},
   "outputs": [
    {
     "data": {
      "text/plain": [
       "LogisticRegression(C=1.0, class_weight=None, dual=False, fit_intercept=True,\n",
       "          intercept_scaling=1, max_iter=100, multi_class='warn',\n",
       "          n_jobs=None, penalty='l2', random_state=None, solver='warn',\n",
       "          tol=0.0001, verbose=0, warm_start=False)"
      ]
     },
     "execution_count": 41,
     "metadata": {},
     "output_type": "execute_result"
    }
   ],
   "source": [
    "logistic = sklearn.linear_model.LogisticRegression()\n",
    "logistic.fit(np.stack(train_data_df['pca_reduced_10'], axis=0), train_data_df['category'])"
   ]
  },
  {
   "cell_type": "markdown",
   "id": "crude-examination",
   "metadata": {},
   "source": [
    "Let's see how the logistic regression performs on the training dataset from which we develop the model. Unfortunately, the mean accuracy is only about 64%."
   ]
  },
  {
   "cell_type": "code",
   "execution_count": 42,
   "id": "ceramic-arrow",
   "metadata": {},
   "outputs": [
    {
     "data": {
      "text/plain": [
       "0.798481308411215"
      ]
     },
     "execution_count": 42,
     "metadata": {},
     "output_type": "execute_result"
    }
   ],
   "source": [
    "logistic.score(np.stack(train_data_df['pca_reduced_10'], axis=0), train_data_df['category'])"
   ]
  },
  {
   "cell_type": "markdown",
   "id": "opposite-carter",
   "metadata": {},
   "source": [
    "How does it perform on the testing dataset, which we \"held out\" and did not use for model training? We need to repeat all the steps on the testing data, but without retraining:"
   ]
  },
  {
   "cell_type": "code",
   "execution_count": 46,
   "id": "neutral-decline",
   "metadata": {},
   "outputs": [
    {
     "name": "stderr",
     "output_type": "stream",
     "text": [
      "/anaconda3/lib/python3.7/site-packages/ipykernel_launcher.py:3: SettingWithCopyWarning: \n",
      "A value is trying to be set on a copy of a slice from a DataFrame.\n",
      "Try using .loc[row_indexer,col_indexer] = value instead\n",
      "\n",
      "See the caveats in the documentation: https://pandas.pydata.org/pandas-docs/stable/user_guide/indexing.html#returning-a-view-versus-a-copy\n",
      "  This is separate from the ipykernel package so we can avoid doing imports until\n",
      "/anaconda3/lib/python3.7/site-packages/ipykernel_launcher.py:7: SettingWithCopyWarning: \n",
      "A value is trying to be set on a copy of a slice from a DataFrame.\n",
      "Try using .loc[row_indexer,col_indexer] = value instead\n",
      "\n",
      "See the caveats in the documentation: https://pandas.pydata.org/pandas-docs/stable/user_guide/indexing.html#returning-a-view-versus-a-copy\n",
      "  import sys\n",
      "/anaconda3/lib/python3.7/site-packages/ipykernel_launcher.py:8: SettingWithCopyWarning: \n",
      "A value is trying to be set on a copy of a slice from a DataFrame.\n",
      "Try using .loc[row_indexer,col_indexer] = value instead\n",
      "\n",
      "See the caveats in the documentation: https://pandas.pydata.org/pandas-docs/stable/user_guide/indexing.html#returning-a-view-versus-a-copy\n",
      "  \n"
     ]
    },
    {
     "data": {
      "text/plain": [
       "0.8146417445482866"
      ]
     },
     "execution_count": 46,
     "metadata": {},
     "output_type": "execute_result"
    }
   ],
   "source": [
    "#Create vectors\n",
    "TFVects_test = TFVectorizer.transform(test_data_df['tweet'])\n",
    "test_data_df['vect'] = [np.array(v).flatten() for v in TFVects_test.todense()]\n",
    "\n",
    "#PCA\n",
    "reduced_data_test = pca.transform(np.stack(test_data_df['vect'], axis=0))\n",
    "test_data_df['pca'] = [r for r in reduced_data_test]\n",
    "test_data_df['pca_reduced_10'] = test_data_df['pca'].apply(lambda x: x[:10])\n",
    "\n",
    "#Test\n",
    "logistic.score(np.stack(test_data_df['pca_reduced_10'], axis=0), test_data_df['category'])"
   ]
  },
  {
   "cell_type": "markdown",
   "id": "graphic-frame",
   "metadata": {},
   "source": [
    "Slightly poorer. How about using more dimensions (40)?"
   ]
  },
  {
   "cell_type": "code",
   "execution_count": 47,
   "id": "appointed-acquisition",
   "metadata": {},
   "outputs": [
    {
     "name": "stdout",
     "output_type": "stream",
     "text": [
      "Training:\n",
      "0.8481308411214953\n",
      "Testing:\n",
      "0.867601246105919\n"
     ]
    },
    {
     "name": "stderr",
     "output_type": "stream",
     "text": [
      "/anaconda3/lib/python3.7/site-packages/ipykernel_launcher.py:1: SettingWithCopyWarning: \n",
      "A value is trying to be set on a copy of a slice from a DataFrame.\n",
      "Try using .loc[row_indexer,col_indexer] = value instead\n",
      "\n",
      "See the caveats in the documentation: https://pandas.pydata.org/pandas-docs/stable/user_guide/indexing.html#returning-a-view-versus-a-copy\n",
      "  \"\"\"Entry point for launching an IPython kernel.\n",
      "/anaconda3/lib/python3.7/site-packages/ipykernel_launcher.py:2: SettingWithCopyWarning: \n",
      "A value is trying to be set on a copy of a slice from a DataFrame.\n",
      "Try using .loc[row_indexer,col_indexer] = value instead\n",
      "\n",
      "See the caveats in the documentation: https://pandas.pydata.org/pandas-docs/stable/user_guide/indexing.html#returning-a-view-versus-a-copy\n",
      "  \n"
     ]
    }
   ],
   "source": [
    "train_data_df['pca_reduced_40'] = train_data_df['pca'].apply(lambda x: x[:40])\n",
    "test_data_df['pca_reduced_40'] = test_data_df['pca'].apply(lambda x: x[:40])\n",
    "\n",
    "logistic.fit(np.stack(train_data_df['pca_reduced_40'], axis=0), train_data_df['category'])\n",
    "\n",
    "print(\"Training:\")\n",
    "print(logistic.score(np.stack(train_data_df['pca_reduced_40'], axis=0), train_data_df['category']))\n",
    "print(\"Testing:\")\n",
    "print(logistic.score(np.stack(test_data_df['pca_reduced_40'], axis=0), test_data_df['category']))"
   ]
  },
  {
   "cell_type": "markdown",
   "id": "brave-label",
   "metadata": {},
   "source": [
    "Or still more (100)?"
   ]
  },
  {
   "cell_type": "code",
   "execution_count": 48,
   "id": "quantitative-guitar",
   "metadata": {},
   "outputs": [
    {
     "name": "stdout",
     "output_type": "stream",
     "text": [
      "Training:\n",
      "0.8679906542056075\n",
      "Testing:\n",
      "0.882398753894081\n"
     ]
    },
    {
     "name": "stderr",
     "output_type": "stream",
     "text": [
      "/anaconda3/lib/python3.7/site-packages/ipykernel_launcher.py:1: SettingWithCopyWarning: \n",
      "A value is trying to be set on a copy of a slice from a DataFrame.\n",
      "Try using .loc[row_indexer,col_indexer] = value instead\n",
      "\n",
      "See the caveats in the documentation: https://pandas.pydata.org/pandas-docs/stable/user_guide/indexing.html#returning-a-view-versus-a-copy\n",
      "  \"\"\"Entry point for launching an IPython kernel.\n",
      "/anaconda3/lib/python3.7/site-packages/ipykernel_launcher.py:2: SettingWithCopyWarning: \n",
      "A value is trying to be set on a copy of a slice from a DataFrame.\n",
      "Try using .loc[row_indexer,col_indexer] = value instead\n",
      "\n",
      "See the caveats in the documentation: https://pandas.pydata.org/pandas-docs/stable/user_guide/indexing.html#returning-a-view-versus-a-copy\n",
      "  \n"
     ]
    }
   ],
   "source": [
    "train_data_df['pca_reduced_100'] = train_data_df['pca'].apply(lambda x: x[:100])\n",
    "test_data_df['pca_reduced_100'] = test_data_df['pca'].apply(lambda x: x[:100])\n",
    "\n",
    "logistic.fit(np.stack(train_data_df['pca_reduced_100'], axis=0), train_data_df['category'])\n",
    "\n",
    "print(\"Training:\")\n",
    "print(logistic.score(np.stack(train_data_df['pca_reduced_100'], axis=0), train_data_df['category']))\n",
    "print(\"Testing:\")\n",
    "print(logistic.score(np.stack(test_data_df['pca_reduced_100'], axis=0), test_data_df['category']))"
   ]
  },
  {
   "cell_type": "markdown",
   "id": "instrumental-alarm",
   "metadata": {},
   "source": [
    "Or even more (200)!"
   ]
  },
  {
   "cell_type": "code",
   "execution_count": 49,
   "id": "corporate-amazon",
   "metadata": {},
   "outputs": [
    {
     "name": "stdout",
     "output_type": "stream",
     "text": [
      "Training:\n",
      "0.8822040498442367\n",
      "Testing:\n",
      "0.8917445482866043\n"
     ]
    },
    {
     "name": "stderr",
     "output_type": "stream",
     "text": [
      "/anaconda3/lib/python3.7/site-packages/ipykernel_launcher.py:1: SettingWithCopyWarning: \n",
      "A value is trying to be set on a copy of a slice from a DataFrame.\n",
      "Try using .loc[row_indexer,col_indexer] = value instead\n",
      "\n",
      "See the caveats in the documentation: https://pandas.pydata.org/pandas-docs/stable/user_guide/indexing.html#returning-a-view-versus-a-copy\n",
      "  \"\"\"Entry point for launching an IPython kernel.\n",
      "/anaconda3/lib/python3.7/site-packages/ipykernel_launcher.py:2: SettingWithCopyWarning: \n",
      "A value is trying to be set on a copy of a slice from a DataFrame.\n",
      "Try using .loc[row_indexer,col_indexer] = value instead\n",
      "\n",
      "See the caveats in the documentation: https://pandas.pydata.org/pandas-docs/stable/user_guide/indexing.html#returning-a-view-versus-a-copy\n",
      "  \n"
     ]
    }
   ],
   "source": [
    "train_data_df['pca_reduced_200'] = train_data_df['pca'].apply(lambda x: x[:200])\n",
    "test_data_df['pca_reduced_200'] = test_data_df['pca'].apply(lambda x: x[:200])\n",
    "\n",
    "logistic.fit(np.stack(train_data_df['pca_reduced_200'], axis=0), train_data_df['category'])\n",
    "\n",
    "print(\"Training:\")\n",
    "print(logistic.score(np.stack(train_data_df['pca_reduced_200'], axis=0), train_data_df['category']))\n",
    "print(\"Testing:\")\n",
    "print(logistic.score(np.stack(test_data_df['pca_reduced_200'], axis=0), test_data_df['category']))"
   ]
  },
  {
   "cell_type": "markdown",
   "id": "original-allah",
   "metadata": {},
   "source": [
    "This is becoming ridiculous (400)!"
   ]
  },
  {
   "cell_type": "code",
   "execution_count": 50,
   "id": "reflected-planning",
   "metadata": {},
   "outputs": [
    {
     "name": "stderr",
     "output_type": "stream",
     "text": [
      "/anaconda3/lib/python3.7/site-packages/ipykernel_launcher.py:1: SettingWithCopyWarning: \n",
      "A value is trying to be set on a copy of a slice from a DataFrame.\n",
      "Try using .loc[row_indexer,col_indexer] = value instead\n",
      "\n",
      "See the caveats in the documentation: https://pandas.pydata.org/pandas-docs/stable/user_guide/indexing.html#returning-a-view-versus-a-copy\n",
      "  \"\"\"Entry point for launching an IPython kernel.\n",
      "/anaconda3/lib/python3.7/site-packages/ipykernel_launcher.py:2: SettingWithCopyWarning: \n",
      "A value is trying to be set on a copy of a slice from a DataFrame.\n",
      "Try using .loc[row_indexer,col_indexer] = value instead\n",
      "\n",
      "See the caveats in the documentation: https://pandas.pydata.org/pandas-docs/stable/user_guide/indexing.html#returning-a-view-versus-a-copy\n",
      "  \n"
     ]
    },
    {
     "name": "stdout",
     "output_type": "stream",
     "text": [
      "Training:\n",
      "0.9032320872274143\n",
      "Testing:\n",
      "0.8933021806853583\n"
     ]
    }
   ],
   "source": [
    "train_data_df['pca_reduced_400'] = train_data_df['pca'].apply(lambda x: x[:400])\n",
    "test_data_df['pca_reduced_400'] = test_data_df['pca'].apply(lambda x: x[:400])\n",
    "\n",
    "logistic.fit(np.stack(train_data_df['pca_reduced_400'], axis=0), train_data_df['category'])\n",
    "\n",
    "print(\"Training:\")\n",
    "print(logistic.score(np.stack(train_data_df['pca_reduced_400'], axis=0), train_data_df['category']))\n",
    "print(\"Testing:\")\n",
    "print(logistic.score(np.stack(test_data_df['pca_reduced_400'], axis=0), test_data_df['category']))"
   ]
  },
  {
   "cell_type": "markdown",
   "id": "certified-tongue",
   "metadata": {},
   "source": [
    "Increasing the number of covariates would overfit our data, and it seems that using a logistic regression, our prediction accuracy is at best about 65%. We can, however, try a logistic regression that uses the TF-IDF scores for each word, but with an L1 regularization or L1-norm loss function, which is also known as least absolute deviations (LAD), least absolute errors (LAE) or L1 penalty. It minimizes the sum of the absolute differences (S) between the target value ($Y_i$) and the estimated values ($f(x_i)$) and prunes all insignificant variables (i.e., word TF-IDF scores):\n",
    "\n",
    "$S=\\sum^n_{i=1}|y_i=f(x_i)|$\n",
    "\n",
    "The result is a model retaining only the most individually significant features."
   ]
  },
  {
   "cell_type": "code",
   "execution_count": 51,
   "id": "communist-philadelphia",
   "metadata": {},
   "outputs": [
    {
     "name": "stdout",
     "output_type": "stream",
     "text": [
      "0.9618380062305296\n"
     ]
    }
   ],
   "source": [
    "logistic_l1= sklearn.linear_model.LogisticRegression(penalty='l2')\n",
    "logistic_l1.fit(np.stack(train_data_df['vect'], axis=0), train_data_df['category'])\n",
    "print(logistic_l1.score(np.stack(train_data_df['vect'], axis=0), train_data_df['category']))"
   ]
  },
  {
   "cell_type": "code",
   "execution_count": 111,
   "id": "cheap-juice",
   "metadata": {},
   "outputs": [
    {
     "data": {
      "text/html": [
       "<div>\n",
       "<style scoped>\n",
       "    .dataframe tbody tr th:only-of-type {\n",
       "        vertical-align: middle;\n",
       "    }\n",
       "\n",
       "    .dataframe tbody tr th {\n",
       "        vertical-align: top;\n",
       "    }\n",
       "\n",
       "    .dataframe thead th {\n",
       "        text-align: right;\n",
       "    }\n",
       "</style>\n",
       "<table border=\"1\" class=\"dataframe\">\n",
       "  <thead>\n",
       "    <tr style=\"text-align: right;\">\n",
       "      <th></th>\n",
       "      <th>Error_Rate</th>\n",
       "      <th>AUC</th>\n",
       "      <th>Precision</th>\n",
       "      <th>Average_Precision</th>\n",
       "      <th>Recall</th>\n",
       "    </tr>\n",
       "    <tr>\n",
       "      <th>Category</th>\n",
       "      <th></th>\n",
       "      <th></th>\n",
       "      <th></th>\n",
       "      <th></th>\n",
       "      <th></th>\n",
       "    </tr>\n",
       "  </thead>\n",
       "  <tbody>\n",
       "    <tr>\n",
       "      <th>False</th>\n",
       "      <td>0.081776</td>\n",
       "      <td>0.917719</td>\n",
       "      <td>0.914573</td>\n",
       "      <td>0.874317</td>\n",
       "      <td>0.910000</td>\n",
       "    </tr>\n",
       "    <tr>\n",
       "      <th>True</th>\n",
       "      <td>0.081776</td>\n",
       "      <td>0.917719</td>\n",
       "      <td>0.921397</td>\n",
       "      <td>0.892416</td>\n",
       "      <td>0.925439</td>\n",
       "    </tr>\n",
       "  </tbody>\n",
       "</table>\n",
       "</div>"
      ],
      "text/plain": [
       "          Error_Rate       AUC  Precision  Average_Precision    Recall\n",
       "Category                                                              \n",
       "False       0.081776  0.917719   0.914573           0.874317  0.910000\n",
       "True        0.081776  0.917719   0.921397           0.892416  0.925439"
      ]
     },
     "execution_count": 111,
     "metadata": {},
     "output_type": "execute_result"
    }
   ],
   "source": [
    "lucem_illud.evaluateClassifier(logistic_l1, test_data_df)"
   ]
  },
  {
   "cell_type": "code",
   "execution_count": 112,
   "id": "medium-carbon",
   "metadata": {},
   "outputs": [
    {
     "data": {
      "image/png": "[encoded data removed]",
      "text/plain": [
       "<Figure size 432x288 with 1 Axes>"
      ]
     },
     "metadata": {
      "needs_background": "light"
     },
     "output_type": "display_data"
    }
   ],
   "source": [
    "lucem_illud.plotConfusionMatrix(logistic_l1, test_data_df)"
   ]
  },
  {
   "cell_type": "markdown",
   "id": "little-nylon",
   "metadata": {},
   "source": [
    "Train the model using training data, and then test it on the testing data."
   ]
  },
  {
   "cell_type": "code",
   "execution_count": 52,
   "id": "informal-groove",
   "metadata": {},
   "outputs": [
    {
     "name": "stdout",
     "output_type": "stream",
     "text": [
      "0.9182242990654206\n"
     ]
    }
   ],
   "source": [
    "print(logistic_l1.score(np.stack(test_data_df['vect'], axis=0), test_data_df['category']))"
   ]
  },
  {
   "cell_type": "markdown",
   "id": "played-chocolate",
   "metadata": {},
   "source": [
    "## <font color=\"red\">*Exercise 4*</font>\n",
    "\n",
    "<font color=\"red\">In the cells immediately following, perform decision tree and random forest classification (binary, multinomial or continuous) using training, testing and extrapolation (uncoded) data from texts and hand-classifications associated with your final project. As with ***Exercise 2***, these could be crowd-sourced codes gathered through Amazon Mechanical Turk last week. Visualize the classification of data points. Calculate relevant metrics (e.g., precision, recall, the F-measure, and AUC). Now build an ensemble classifier by bagging trees into a random forest. Visualize the result. How do these classifiers perform? What does ensemble learning do?"
   ]
  },
  {
   "cell_type": "markdown",
   "id": "technological-thong",
   "metadata": {},
   "source": [
    "The tree classifiers perform well in predicting fake news but not so well for true news.\n",
    "\n",
    "Ensemble learnings aggregates the predictions from multiple models, e.g., bagging averages multiple trees."
   ]
  },
  {
   "cell_type": "code",
   "execution_count": 53,
   "id": "funded-memorial",
   "metadata": {},
   "outputs": [],
   "source": [
    "tree = sklearn.tree.DecisionTreeClassifier(max_depth=10) #Create an instance of our decision tree classifier.\n",
    "\n",
    "bag = sklearn.ensemble.BaggingClassifier(tree, n_estimators=100, max_samples=0.8, random_state=1) #Each tree uses up to 80% of the data"
   ]
  },
  {
   "cell_type": "code",
   "execution_count": 56,
   "id": "ethical-madrid",
   "metadata": {},
   "outputs": [
    {
     "data": {
      "text/plain": [
       "BaggingClassifier(base_estimator=DecisionTreeClassifier(class_weight=None, criterion='gini', max_depth=10,\n",
       "            max_features=None, max_leaf_nodes=None,\n",
       "            min_impurity_decrease=0.0, min_impurity_split=None,\n",
       "            min_samples_leaf=1, min_samples_split=2,\n",
       "            min_weight_fraction_leaf=0.0, presort=False, random_state=None,\n",
       "            splitter='best'),\n",
       "         bootstrap=True, bootstrap_features=False, max_features=1.0,\n",
       "         max_samples=0.8, n_estimators=100, n_jobs=None, oob_score=False,\n",
       "         random_state=1, verbose=0, warm_start=False)"
      ]
     },
     "execution_count": 56,
     "metadata": {},
     "output_type": "execute_result"
    }
   ],
   "source": [
    "bag.fit(np.stack(train_data_df['vect'], axis =0), train_data_df['category']) #Fit the bagged classifier"
   ]
  },
  {
   "cell_type": "code",
   "execution_count": 57,
   "id": "ranking-battery",
   "metadata": {},
   "outputs": [
    {
     "name": "stderr",
     "output_type": "stream",
     "text": [
      "'c' argument looks like a single numeric RGB or RGBA sequence, which should be avoided as value-mapping will have precedence in case its length matches with 'x' & 'y'.  Please use a 2-D array with a single row if you really want to specify the same RGB or RGBA value for all points.\n",
      "'c' argument looks like a single numeric RGB or RGBA sequence, which should be avoided as value-mapping will have precedence in case its length matches with 'x' & 'y'.  Please use a 2-D array with a single row if you really want to specify the same RGB or RGBA value for all points.\n"
     ]
    },
    {
     "data": {
      "image/png": "[encoded data removed]",
      "text/plain": [
       "<Figure size 720x720 with 1 Axes>"
      ]
     },
     "metadata": {
      "needs_background": "light"
     },
     "output_type": "display_data"
    }
   ],
   "source": [
    "lucem_illud.plotregions(bag, test_data_df)"
   ]
  },
  {
   "cell_type": "code",
   "execution_count": 58,
   "id": "wicked-patrol",
   "metadata": {
    "scrolled": true
   },
   "outputs": [
    {
     "data": {
      "text/html": [
       "<div>\n",
       "<style scoped>\n",
       "    .dataframe tbody tr th:only-of-type {\n",
       "        vertical-align: middle;\n",
       "    }\n",
       "\n",
       "    .dataframe tbody tr th {\n",
       "        vertical-align: top;\n",
       "    }\n",
       "\n",
       "    .dataframe thead th {\n",
       "        text-align: right;\n",
       "    }\n",
       "</style>\n",
       "<table border=\"1\" class=\"dataframe\">\n",
       "  <thead>\n",
       "    <tr style=\"text-align: right;\">\n",
       "      <th></th>\n",
       "      <th>Error_Rate</th>\n",
       "      <th>AUC</th>\n",
       "      <th>Precision</th>\n",
       "      <th>Average_Precision</th>\n",
       "      <th>Recall</th>\n",
       "    </tr>\n",
       "    <tr>\n",
       "      <th>Category</th>\n",
       "      <th></th>\n",
       "      <th></th>\n",
       "      <th></th>\n",
       "      <th></th>\n",
       "      <th></th>\n",
       "    </tr>\n",
       "  </thead>\n",
       "  <tbody>\n",
       "    <tr>\n",
       "      <th>False</th>\n",
       "      <td>0.292835</td>\n",
       "      <td>0.72402</td>\n",
       "      <td>0.617400</td>\n",
       "      <td>0.614648</td>\n",
       "      <td>0.981667</td>\n",
       "    </tr>\n",
       "    <tr>\n",
       "      <th>True</th>\n",
       "      <td>0.292835</td>\n",
       "      <td>0.72402</td>\n",
       "      <td>0.966667</td>\n",
       "      <td>0.735096</td>\n",
       "      <td>0.466374</td>\n",
       "    </tr>\n",
       "  </tbody>\n",
       "</table>\n",
       "</div>"
      ],
      "text/plain": [
       "          Error_Rate      AUC  Precision  Average_Precision    Recall\n",
       "Category                                                             \n",
       "False       0.292835  0.72402   0.617400           0.614648  0.981667\n",
       "True        0.292835  0.72402   0.966667           0.735096  0.466374"
      ]
     },
     "execution_count": 58,
     "metadata": {},
     "output_type": "execute_result"
    }
   ],
   "source": [
    "lucem_illud.evaluateClassifier(bag, test_data_df)"
   ]
  },
  {
   "cell_type": "code",
   "execution_count": 59,
   "id": "allied-evaluation",
   "metadata": {
    "scrolled": true
   },
   "outputs": [
    {
     "data": {
      "image/png": "[encoded data removed]",
      "text/plain": [
       "<Figure size 432x288 with 1 Axes>"
      ]
     },
     "metadata": {
      "needs_background": "light"
     },
     "output_type": "display_data"
    }
   ],
   "source": [
    "lucem_illud.plotConfusionMatrix(bag, test_data_df)"
   ]
  },
  {
   "cell_type": "code",
   "execution_count": 62,
   "id": "vulnerable-attraction",
   "metadata": {},
   "outputs": [],
   "source": [
    "rf = sklearn.ensemble.RandomForestClassifier(max_depth=10, n_estimators=100, max_features=0.5)"
   ]
  },
  {
   "cell_type": "code",
   "execution_count": 64,
   "id": "individual-camping",
   "metadata": {},
   "outputs": [
    {
     "data": {
      "text/plain": [
       "RandomForestClassifier(bootstrap=True, class_weight=None, criterion='gini',\n",
       "            max_depth=10, max_features=0.5, max_leaf_nodes=None,\n",
       "            min_impurity_decrease=0.0, min_impurity_split=None,\n",
       "            min_samples_leaf=1, min_samples_split=2,\n",
       "            min_weight_fraction_leaf=0.0, n_estimators=100, n_jobs=None,\n",
       "            oob_score=False, random_state=None, verbose=0,\n",
       "            warm_start=False)"
      ]
     },
     "execution_count": 64,
     "metadata": {},
     "output_type": "execute_result"
    }
   ],
   "source": [
    "rf.fit(np.stack(train_data_df['vect'], axis =0), train_data_df['category']) #Fit the bagged classifier"
   ]
  },
  {
   "cell_type": "code",
   "execution_count": 65,
   "id": "suspected-entry",
   "metadata": {},
   "outputs": [
    {
     "data": {
      "text/html": [
       "<div>\n",
       "<style scoped>\n",
       "    .dataframe tbody tr th:only-of-type {\n",
       "        vertical-align: middle;\n",
       "    }\n",
       "\n",
       "    .dataframe tbody tr th {\n",
       "        vertical-align: top;\n",
       "    }\n",
       "\n",
       "    .dataframe thead th {\n",
       "        text-align: right;\n",
       "    }\n",
       "</style>\n",
       "<table border=\"1\" class=\"dataframe\">\n",
       "  <thead>\n",
       "    <tr style=\"text-align: right;\">\n",
       "      <th></th>\n",
       "      <th>Error_Rate</th>\n",
       "      <th>AUC</th>\n",
       "      <th>Precision</th>\n",
       "      <th>Average_Precision</th>\n",
       "      <th>Recall</th>\n",
       "    </tr>\n",
       "    <tr>\n",
       "      <th>Category</th>\n",
       "      <th></th>\n",
       "      <th></th>\n",
       "      <th></th>\n",
       "      <th></th>\n",
       "      <th></th>\n",
       "    </tr>\n",
       "  </thead>\n",
       "  <tbody>\n",
       "    <tr>\n",
       "      <th>False</th>\n",
       "      <td>0.291277</td>\n",
       "      <td>0.72538</td>\n",
       "      <td>0.618947</td>\n",
       "      <td>0.615914</td>\n",
       "      <td>0.98000</td>\n",
       "    </tr>\n",
       "    <tr>\n",
       "      <th>True</th>\n",
       "      <td>0.291277</td>\n",
       "      <td>0.72538</td>\n",
       "      <td>0.964072</td>\n",
       "      <td>0.735778</td>\n",
       "      <td>0.47076</td>\n",
       "    </tr>\n",
       "  </tbody>\n",
       "</table>\n",
       "</div>"
      ],
      "text/plain": [
       "          Error_Rate      AUC  Precision  Average_Precision   Recall\n",
       "Category                                                            \n",
       "False       0.291277  0.72538   0.618947           0.615914  0.98000\n",
       "True        0.291277  0.72538   0.964072           0.735778  0.47076"
      ]
     },
     "execution_count": 65,
     "metadata": {},
     "output_type": "execute_result"
    }
   ],
   "source": [
    "lucem_illud.evaluateClassifier(rf, test_data_df)"
   ]
  },
  {
   "cell_type": "code",
   "execution_count": 66,
   "id": "efficient-hearts",
   "metadata": {
    "scrolled": true
   },
   "outputs": [
    {
     "data": {
      "image/png": "[encoded data removed]",
      "text/plain": [
       "<Figure size 432x288 with 1 Axes>"
      ]
     },
     "metadata": {
      "needs_background": "light"
     },
     "output_type": "display_data"
    }
   ],
   "source": [
    "lucem_illud.plotConfusionMatrix(rf, test_data_df)"
   ]
  },
  {
   "cell_type": "code",
   "execution_count": 110,
   "id": "painted-letter",
   "metadata": {},
   "outputs": [
    {
     "name": "stderr",
     "output_type": "stream",
     "text": [
      "'c' argument looks like a single numeric RGB or RGBA sequence, which should be avoided as value-mapping will have precedence in case its length matches with 'x' & 'y'.  Please use a 2-D array with a single row if you really want to specify the same RGB or RGBA value for all points.\n",
      "'c' argument looks like a single numeric RGB or RGBA sequence, which should be avoided as value-mapping will have precedence in case its length matches with 'x' & 'y'.  Please use a 2-D array with a single row if you really want to specify the same RGB or RGBA value for all points.\n"
     ]
    },
    {
     "data": {
      "image/png": "[encoded data removed]",
      "text/plain": [
       "<Figure size 720x720 with 1 Axes>"
      ]
     },
     "metadata": {
      "needs_background": "light"
     },
     "output_type": "display_data"
    }
   ],
   "source": [
    "lucem_illud.plotregions(rf, test_data_df)"
   ]
  },
  {
   "cell_type": "markdown",
   "id": "micro-reference",
   "metadata": {},
   "source": [
    "## <font color=\"red\">*Exercise 5*</font>\n",
    "\n",
    "<font color=\"red\">In the cells immediately following, perform and visualize k-nearest neighbor classification using training, testing and extrapolation (uncoded) data from texts and hand-classifications associated with your final project. Visualize the classification of data points and calculate relevant metrics (e.g., precision, recall, the F-measure, and AUC). Articulate how the *k*-nearest neighbor approach relates to *k*-means clustering explored in ***week 3***?"
   ]
  },
  {
   "cell_type": "markdown",
   "id": "amber-rapid",
   "metadata": {},
   "source": [
    "The KNN classifier does not perform well on the fake news dataset. It seems to classify all news to fake news.\n",
    "\n",
    "KNN and K-means sounds similar as they both have the hyperparameter 'k', but they are very different methods - the former one classify data by looking at its k nearest neigbors, whereas the latter one is a unsupervised method that cluster data into k number of groups."
   ]
  },
  {
   "cell_type": "code",
   "execution_count": 67,
   "id": "strategic-uzbekistan",
   "metadata": {},
   "outputs": [],
   "source": [
    "n_neighbors = 15\n",
    "weights=\"uniform\"\n",
    "clf_knearest = sklearn.neighbors.KNeighborsClassifier(n_neighbors, weights=weights)"
   ]
  },
  {
   "cell_type": "code",
   "execution_count": 68,
   "id": "geological-element",
   "metadata": {},
   "outputs": [
    {
     "data": {
      "text/plain": [
       "KNeighborsClassifier(algorithm='auto', leaf_size=30, metric='minkowski',\n",
       "           metric_params=None, n_jobs=None, n_neighbors=15, p=2,\n",
       "           weights='uniform')"
      ]
     },
     "execution_count": 68,
     "metadata": {},
     "output_type": "execute_result"
    }
   ],
   "source": [
    "clf_knearest.fit(np.stack(train_data_df['vect'], axis = 0), train_data_df['category'])"
   ]
  },
  {
   "cell_type": "code",
   "execution_count": 69,
   "id": "attached-nomination",
   "metadata": {},
   "outputs": [
    {
     "data": {
      "text/html": [
       "<div>\n",
       "<style scoped>\n",
       "    .dataframe tbody tr th:only-of-type {\n",
       "        vertical-align: middle;\n",
       "    }\n",
       "\n",
       "    .dataframe tbody tr th {\n",
       "        vertical-align: top;\n",
       "    }\n",
       "\n",
       "    .dataframe thead th {\n",
       "        text-align: right;\n",
       "    }\n",
       "</style>\n",
       "<table border=\"1\" class=\"dataframe\">\n",
       "  <thead>\n",
       "    <tr style=\"text-align: right;\">\n",
       "      <th></th>\n",
       "      <th>Error_Rate</th>\n",
       "      <th>AUC</th>\n",
       "      <th>Precision</th>\n",
       "      <th>Average_Precision</th>\n",
       "      <th>Recall</th>\n",
       "    </tr>\n",
       "    <tr>\n",
       "      <th>Category</th>\n",
       "      <th></th>\n",
       "      <th></th>\n",
       "      <th></th>\n",
       "      <th></th>\n",
       "      <th></th>\n",
       "    </tr>\n",
       "  </thead>\n",
       "  <tbody>\n",
       "    <tr>\n",
       "      <th>False</th>\n",
       "      <td>0.46067</td>\n",
       "      <td>0.557922</td>\n",
       "      <td>0.509739</td>\n",
       "      <td>0.509739</td>\n",
       "      <td>1.000000</td>\n",
       "    </tr>\n",
       "    <tr>\n",
       "      <th>True</th>\n",
       "      <td>0.46067</td>\n",
       "      <td>0.557922</td>\n",
       "      <td>1.000000</td>\n",
       "      <td>0.576514</td>\n",
       "      <td>0.115845</td>\n",
       "    </tr>\n",
       "  </tbody>\n",
       "</table>\n",
       "</div>"
      ],
      "text/plain": [
       "          Error_Rate       AUC  Precision  Average_Precision    Recall\n",
       "Category                                                              \n",
       "False        0.46067  0.557922   0.509739           0.509739  1.000000\n",
       "True         0.46067  0.557922   1.000000           0.576514  0.115845"
      ]
     },
     "execution_count": 69,
     "metadata": {},
     "output_type": "execute_result"
    }
   ],
   "source": [
    "lucem_illud.evaluateClassifier(clf_knearest, train_data_df)"
   ]
  },
  {
   "cell_type": "code",
   "execution_count": 70,
   "id": "printable-authority",
   "metadata": {},
   "outputs": [
    {
     "name": "stderr",
     "output_type": "stream",
     "text": [
      "/anaconda3/lib/python3.7/site-packages/ipykernel_launcher.py:1: SettingWithCopyWarning: \n",
      "A value is trying to be set on a copy of a slice from a DataFrame.\n",
      "Try using .loc[row_indexer,col_indexer] = value instead\n",
      "\n",
      "See the caveats in the documentation: https://pandas.pydata.org/pandas-docs/stable/user_guide/indexing.html#returning-a-view-versus-a-copy\n",
      "  \"\"\"Entry point for launching an IPython kernel.\n"
     ]
    },
    {
     "name": "stdout",
     "output_type": "stream",
     "text": [
      "Testing score:\n",
      "0.5280373831775701\n"
     ]
    }
   ],
   "source": [
    "test_data_df['nb_predict'] = clf_knearest.predict(np.stack(test_data_df['vect'], axis=0))\n",
    "\n",
    "#Test\n",
    "print(\"Testing score:\")\n",
    "print(clf_knearest.score(np.stack(test_data_df['vect'], axis=0), test_data_df['category']))"
   ]
  },
  {
   "cell_type": "code",
   "execution_count": 71,
   "id": "progressive-momentum",
   "metadata": {},
   "outputs": [
    {
     "data": {
      "image/png": "[encoded data removed]",
      "text/plain": [
       "<Figure size 432x288 with 1 Axes>"
      ]
     },
     "metadata": {
      "needs_background": "light"
     },
     "output_type": "display_data"
    }
   ],
   "source": [
    "lucem_illud.plotConfusionMatrix(clf_knearest, test_data_df)"
   ]
  },
  {
   "cell_type": "code",
   "execution_count": null,
   "id": "unlikely-development",
   "metadata": {},
   "outputs": [],
   "source": []
  },
  {
   "cell_type": "markdown",
   "id": "continued-unknown",
   "metadata": {},
   "source": [
    "## <font color=\"red\">*Exercise 6*</font>\n",
    "\n",
    "<font color=\"red\">In the cells immediately following, perform a neural network classification and calculate relevant metrics (e.g., precision, recall, the F-measure, and AUC). How does this classify relevant to *k*-nearest neighbor, logistic and decision-tree approaches?"
   ]
  },
  {
   "cell_type": "markdown",
   "id": "disciplinary-december",
   "metadata": {},
   "source": [
    "The Neural network classifier performs better than all the methods above for the test data set."
   ]
  },
  {
   "cell_type": "code",
   "execution_count": 72,
   "id": "potential-flexibility",
   "metadata": {},
   "outputs": [
    {
     "data": {
      "text/plain": [
       "MLPClassifier(activation='relu', alpha=0.0001, batch_size='auto', beta_1=0.9,\n",
       "       beta_2=0.999, early_stopping=False, epsilon=1e-08,\n",
       "       hidden_layer_sizes=(100,), learning_rate='constant',\n",
       "       learning_rate_init=0.001, max_iter=200, momentum=0.9,\n",
       "       n_iter_no_change=10, nesterovs_momentum=True, power_t=0.5,\n",
       "       random_state=None, shuffle=True, solver='adam', tol=0.0001,\n",
       "       validation_fraction=0.1, verbose=False, warm_start=False)"
      ]
     },
     "execution_count": 72,
     "metadata": {},
     "output_type": "execute_result"
    }
   ],
   "source": [
    "clf_nn = sklearn.neural_network.MLPClassifier()\n",
    "clf_nn.fit(np.stack(train_data_df['vect'], axis=0), train_data_df['category'])"
   ]
  },
  {
   "cell_type": "code",
   "execution_count": 73,
   "id": "brief-survivor",
   "metadata": {},
   "outputs": [
    {
     "data": {
      "text/html": [
       "<div>\n",
       "<style scoped>\n",
       "    .dataframe tbody tr th:only-of-type {\n",
       "        vertical-align: middle;\n",
       "    }\n",
       "\n",
       "    .dataframe tbody tr th {\n",
       "        vertical-align: top;\n",
       "    }\n",
       "\n",
       "    .dataframe thead th {\n",
       "        text-align: right;\n",
       "    }\n",
       "</style>\n",
       "<table border=\"1\" class=\"dataframe\">\n",
       "  <thead>\n",
       "    <tr style=\"text-align: right;\">\n",
       "      <th></th>\n",
       "      <th>Error_Rate</th>\n",
       "      <th>AUC</th>\n",
       "      <th>Precision</th>\n",
       "      <th>Average_Precision</th>\n",
       "      <th>Recall</th>\n",
       "    </tr>\n",
       "    <tr>\n",
       "      <th>Category</th>\n",
       "      <th></th>\n",
       "      <th></th>\n",
       "      <th></th>\n",
       "      <th></th>\n",
       "      <th></th>\n",
       "    </tr>\n",
       "  </thead>\n",
       "  <tbody>\n",
       "    <tr>\n",
       "      <th>False</th>\n",
       "      <td>0.098131</td>\n",
       "      <td>0.900322</td>\n",
       "      <td>0.910035</td>\n",
       "      <td>0.855429</td>\n",
       "      <td>0.876667</td>\n",
       "    </tr>\n",
       "    <tr>\n",
       "      <th>True</th>\n",
       "      <td>0.098131</td>\n",
       "      <td>0.900322</td>\n",
       "      <td>0.895184</td>\n",
       "      <td>0.867628</td>\n",
       "      <td>0.923977</td>\n",
       "    </tr>\n",
       "  </tbody>\n",
       "</table>\n",
       "</div>"
      ],
      "text/plain": [
       "          Error_Rate       AUC  Precision  Average_Precision    Recall\n",
       "Category                                                              \n",
       "False       0.098131  0.900322   0.910035           0.855429  0.876667\n",
       "True        0.098131  0.900322   0.895184           0.867628  0.923977"
      ]
     },
     "execution_count": 73,
     "metadata": {},
     "output_type": "execute_result"
    }
   ],
   "source": [
    "lucem_illud.evaluateClassifier(clf_nn, test_data_df)"
   ]
  },
  {
   "cell_type": "code",
   "execution_count": 74,
   "id": "sized-motion",
   "metadata": {},
   "outputs": [
    {
     "data": {
      "image/png": "[encoded data removed]",
      "text/plain": [
       "<Figure size 432x288 with 1 Axes>"
      ]
     },
     "metadata": {
      "needs_background": "light"
     },
     "output_type": "display_data"
    }
   ],
   "source": [
    "lucem_illud.plotConfusionMatrix(clf_nn, test_data_df)"
   ]
  },
  {
   "cell_type": "code",
   "execution_count": null,
   "id": "congressional-guarantee",
   "metadata": {},
   "outputs": [],
   "source": [
    "lucem_illud.plotregions(clf_nn, test_data_df)"
   ]
  },
  {
   "cell_type": "code",
   "execution_count": null,
   "id": "strategic-fourth",
   "metadata": {},
   "outputs": [],
   "source": []
  },
  {
   "cell_type": "markdown",
   "id": "combined-cocktail",
   "metadata": {},
   "source": [
    "## <font color=\"red\">*Exercise 7*</font>\n",
    "\n",
    "<font color=\"red\">In the cells immediately following, use the pipeline functions or the word or sentence vector functions (e.g., similarity) to explore the social game underlying the production and meaning of texts associated with your final project. How does BERT help you gain insight regarding your research question that is similar and different from prior methods?"
   ]
  },
  {
   "cell_type": "code",
   "execution_count": 75,
   "id": "celtic-daisy",
   "metadata": {},
   "outputs": [],
   "source": [
    "import ipywidgets as widgets\n",
    "from IPython.display import display"
   ]
  },
  {
   "cell_type": "code",
   "execution_count": 109,
   "id": "white-murder",
   "metadata": {},
   "outputs": [
    {
     "name": "stderr",
     "output_type": "stream",
     "text": [
      "No model was supplied, defaulted to distilbert-base-uncased-finetuned-sst-2-english (https://huggingface.co/distilbert-base-uncased-finetuned-sst-2-english)\n"
     ]
    }
   ],
   "source": [
    "from transformers import pipeline\n",
    "nlp = pipeline(\"sentiment-analysis\")"
   ]
  },
  {
   "cell_type": "code",
   "execution_count": 99,
   "id": "amended-journal",
   "metadata": {},
   "outputs": [],
   "source": [
    "df_short = fknews[:200]"
   ]
  },
  {
   "cell_type": "code",
   "execution_count": 88,
   "id": "expensive-nickel",
   "metadata": {},
   "outputs": [
    {
     "data": {
      "text/plain": [
       "{'label': 'NEGATIVE', 'score': 0.9838776588439941}"
      ]
     },
     "execution_count": 88,
     "metadata": {},
     "output_type": "execute_result"
    }
   ],
   "source": [
    "nlp(fknews['tweet'][1])[0]"
   ]
  },
  {
   "cell_type": "code",
   "execution_count": 94,
   "id": "european-hurricane",
   "metadata": {},
   "outputs": [
    {
     "data": {
      "text/plain": [
       "'A growing number of states and cities are requiring a face covering for anyone leaving their home. Learn more about the best materials to make your own face mask and how to properly wear and care for them: https://t.co/oSTj2oqq3m'"
      ]
     },
     "execution_count": 94,
     "metadata": {},
     "output_type": "execute_result"
    }
   ],
   "source": [
    "fknews['tweet'][269]"
   ]
  },
  {
   "cell_type": "code",
   "execution_count": 100,
   "id": "flush-retail",
   "metadata": {},
   "outputs": [
    {
     "name": "stderr",
     "output_type": "stream",
     "text": [
      "/anaconda3/lib/python3.7/site-packages/ipykernel_launcher.py:1: SettingWithCopyWarning: \n",
      "A value is trying to be set on a copy of a slice from a DataFrame.\n",
      "Try using .loc[row_indexer,col_indexer] = value instead\n",
      "\n",
      "See the caveats in the documentation: https://pandas.pydata.org/pandas-docs/stable/user_guide/indexing.html#returning-a-view-versus-a-copy\n",
      "  \"\"\"Entry point for launching an IPython kernel.\n"
     ]
    }
   ],
   "source": [
    "df_short['sentiment'] = df_short['tweet'].apply(lambda x:nlp(x)[0])"
   ]
  },
  {
   "cell_type": "code",
   "execution_count": 101,
   "id": "unlike-package",
   "metadata": {},
   "outputs": [
    {
     "name": "stderr",
     "output_type": "stream",
     "text": [
      "/anaconda3/lib/python3.7/site-packages/ipykernel_launcher.py:1: SettingWithCopyWarning: \n",
      "A value is trying to be set on a copy of a slice from a DataFrame.\n",
      "Try using .loc[row_indexer,col_indexer] = value instead\n",
      "\n",
      "See the caveats in the documentation: https://pandas.pydata.org/pandas-docs/stable/user_guide/indexing.html#returning-a-view-versus-a-copy\n",
      "  \"\"\"Entry point for launching an IPython kernel.\n"
     ]
    }
   ],
   "source": [
    "df_short['sentiment'] = df_short['sentiment'].apply(lambda x: x['label'])"
   ]
  },
  {
   "cell_type": "code",
   "execution_count": 102,
   "id": "rocky-motorcycle",
   "metadata": {},
   "outputs": [
    {
     "data": {
      "text/html": [
       "<div>\n",
       "<style scoped>\n",
       "    .dataframe tbody tr th:only-of-type {\n",
       "        vertical-align: middle;\n",
       "    }\n",
       "\n",
       "    .dataframe tbody tr th {\n",
       "        vertical-align: top;\n",
       "    }\n",
       "\n",
       "    .dataframe thead th {\n",
       "        text-align: right;\n",
       "    }\n",
       "</style>\n",
       "<table border=\"1\" class=\"dataframe\">\n",
       "  <thead>\n",
       "    <tr style=\"text-align: right;\">\n",
       "      <th></th>\n",
       "      <th>id</th>\n",
       "      <th>tweet</th>\n",
       "      <th>label</th>\n",
       "      <th>sentiment</th>\n",
       "    </tr>\n",
       "  </thead>\n",
       "  <tbody>\n",
       "    <tr>\n",
       "      <th>0</th>\n",
       "      <td>1</td>\n",
       "      <td>The CDC currently reports 99031 deaths. In gen...</td>\n",
       "      <td>real</td>\n",
       "      <td>NEGATIVE</td>\n",
       "    </tr>\n",
       "    <tr>\n",
       "      <th>1</th>\n",
       "      <td>2</td>\n",
       "      <td>States reported 1121 deaths a small rise from ...</td>\n",
       "      <td>real</td>\n",
       "      <td>NEGATIVE</td>\n",
       "    </tr>\n",
       "    <tr>\n",
       "      <th>2</th>\n",
       "      <td>3</td>\n",
       "      <td>Politically Correct Woman (Almost) Uses Pandem...</td>\n",
       "      <td>fake</td>\n",
       "      <td>NEGATIVE</td>\n",
       "    </tr>\n",
       "    <tr>\n",
       "      <th>3</th>\n",
       "      <td>4</td>\n",
       "      <td>#IndiaFightsCorona: We have 1524 #COVID testin...</td>\n",
       "      <td>real</td>\n",
       "      <td>NEGATIVE</td>\n",
       "    </tr>\n",
       "    <tr>\n",
       "      <th>4</th>\n",
       "      <td>5</td>\n",
       "      <td>Populous states can generate large case counts...</td>\n",
       "      <td>real</td>\n",
       "      <td>NEGATIVE</td>\n",
       "    </tr>\n",
       "    <tr>\n",
       "      <th>...</th>\n",
       "      <td>...</td>\n",
       "      <td>...</td>\n",
       "      <td>...</td>\n",
       "      <td>...</td>\n",
       "    </tr>\n",
       "    <tr>\n",
       "      <th>195</th>\n",
       "      <td>196</td>\n",
       "      <td>STUDY: COVID was likely in the mix of Seattle’...</td>\n",
       "      <td>real</td>\n",
       "      <td>NEGATIVE</td>\n",
       "    </tr>\n",
       "    <tr>\n",
       "      <th>196</th>\n",
       "      <td>197</td>\n",
       "      <td>A photo shows people infected with coronavirus...</td>\n",
       "      <td>fake</td>\n",
       "      <td>NEGATIVE</td>\n",
       "    </tr>\n",
       "    <tr>\n",
       "      <th>197</th>\n",
       "      <td>198</td>\n",
       "      <td>#IndiaFightsCorona Active cases only 22% of to...</td>\n",
       "      <td>real</td>\n",
       "      <td>NEGATIVE</td>\n",
       "    </tr>\n",
       "    <tr>\n",
       "      <th>198</th>\n",
       "      <td>199</td>\n",
       "      <td>\"States like New York, Illinois and California...</td>\n",
       "      <td>fake</td>\n",
       "      <td>NEGATIVE</td>\n",
       "    </tr>\n",
       "    <tr>\n",
       "      <th>199</th>\n",
       "      <td>200</td>\n",
       "      <td>NEWS! Anti-vaxxers close to deciding which med...</td>\n",
       "      <td>fake</td>\n",
       "      <td>NEGATIVE</td>\n",
       "    </tr>\n",
       "  </tbody>\n",
       "</table>\n",
       "<p>200 rows × 4 columns</p>\n",
       "</div>"
      ],
      "text/plain": [
       "      id                                              tweet label sentiment\n",
       "0      1  The CDC currently reports 99031 deaths. In gen...  real  NEGATIVE\n",
       "1      2  States reported 1121 deaths a small rise from ...  real  NEGATIVE\n",
       "2      3  Politically Correct Woman (Almost) Uses Pandem...  fake  NEGATIVE\n",
       "3      4  #IndiaFightsCorona: We have 1524 #COVID testin...  real  NEGATIVE\n",
       "4      5  Populous states can generate large case counts...  real  NEGATIVE\n",
       "..   ...                                                ...   ...       ...\n",
       "195  196  STUDY: COVID was likely in the mix of Seattle’...  real  NEGATIVE\n",
       "196  197  A photo shows people infected with coronavirus...  fake  NEGATIVE\n",
       "197  198  #IndiaFightsCorona Active cases only 22% of to...  real  NEGATIVE\n",
       "198  199  \"States like New York, Illinois and California...  fake  NEGATIVE\n",
       "199  200  NEWS! Anti-vaxxers close to deciding which med...  fake  NEGATIVE\n",
       "\n",
       "[200 rows x 4 columns]"
      ]
     },
     "execution_count": 102,
     "metadata": {},
     "output_type": "execute_result"
    }
   ],
   "source": [
    "df_short"
   ]
  },
  {
   "cell_type": "code",
   "execution_count": 107,
   "id": "amazing-induction",
   "metadata": {},
   "outputs": [
    {
     "data": {
      "text/html": [
       "<div>\n",
       "<style scoped>\n",
       "    .dataframe tbody tr th:only-of-type {\n",
       "        vertical-align: middle;\n",
       "    }\n",
       "\n",
       "    .dataframe tbody tr th {\n",
       "        vertical-align: top;\n",
       "    }\n",
       "\n",
       "    .dataframe thead th {\n",
       "        text-align: right;\n",
       "    }\n",
       "</style>\n",
       "<table border=\"1\" class=\"dataframe\">\n",
       "  <thead>\n",
       "    <tr style=\"text-align: right;\">\n",
       "      <th></th>\n",
       "      <th>id</th>\n",
       "    </tr>\n",
       "    <tr>\n",
       "      <th>sentiment</th>\n",
       "      <th></th>\n",
       "    </tr>\n",
       "  </thead>\n",
       "  <tbody>\n",
       "    <tr>\n",
       "      <th>NEGATIVE</th>\n",
       "      <td>9655</td>\n",
       "    </tr>\n",
       "    <tr>\n",
       "      <th>POSITIVE</th>\n",
       "      <td>2469</td>\n",
       "    </tr>\n",
       "  </tbody>\n",
       "</table>\n",
       "</div>"
      ],
      "text/plain": [
       "             id\n",
       "sentiment      \n",
       "NEGATIVE   9655\n",
       "POSITIVE   2469"
      ]
     },
     "execution_count": 107,
     "metadata": {},
     "output_type": "execute_result"
    }
   ],
   "source": [
    "df_short[df_short['label']=='real'].groupby('sentiment').sum()"
   ]
  },
  {
   "cell_type": "code",
   "execution_count": 108,
   "id": "young-complement",
   "metadata": {},
   "outputs": [
    {
     "data": {
      "text/html": [
       "<div>\n",
       "<style scoped>\n",
       "    .dataframe tbody tr th:only-of-type {\n",
       "        vertical-align: middle;\n",
       "    }\n",
       "\n",
       "    .dataframe tbody tr th {\n",
       "        vertical-align: top;\n",
       "    }\n",
       "\n",
       "    .dataframe thead th {\n",
       "        text-align: right;\n",
       "    }\n",
       "</style>\n",
       "<table border=\"1\" class=\"dataframe\">\n",
       "  <thead>\n",
       "    <tr style=\"text-align: right;\">\n",
       "      <th></th>\n",
       "      <th>id</th>\n",
       "    </tr>\n",
       "    <tr>\n",
       "      <th>sentiment</th>\n",
       "      <th></th>\n",
       "    </tr>\n",
       "  </thead>\n",
       "  <tbody>\n",
       "    <tr>\n",
       "      <th>NEGATIVE</th>\n",
       "      <td>7031</td>\n",
       "    </tr>\n",
       "    <tr>\n",
       "      <th>POSITIVE</th>\n",
       "      <td>945</td>\n",
       "    </tr>\n",
       "  </tbody>\n",
       "</table>\n",
       "</div>"
      ],
      "text/plain": [
       "             id\n",
       "sentiment      \n",
       "NEGATIVE   7031\n",
       "POSITIVE    945"
      ]
     },
     "execution_count": 108,
     "metadata": {},
     "output_type": "execute_result"
    }
   ],
   "source": [
    "df_short[df_short['label']=='fake'].groupby('sentiment').sum()"
   ]
  },
  {
   "cell_type": "markdown",
   "id": "forty-karaoke",
   "metadata": {},
   "source": [
    "The proportion of negative news is larger for fake news than real news for this pilot dataset."
   ]
  },
  {
   "cell_type": "code",
   "execution_count": null,
   "id": "second-integral",
   "metadata": {},
   "outputs": [],
   "source": []
  }
 ],
 "metadata": {
  "kernelspec": {
   "display_name": "Python 3",
   "language": "python",
   "name": "python3"
  },
  "language_info": {
   "codemirror_mode": {
    "name": "ipython",
    "version": 3
   },
   "file_extension": ".py",
   "mimetype": "text/x-python",
   "name": "python",
   "nbconvert_exporter": "python",
   "pygments_lexer": "ipython3",
   "version": "3.7.1"
  }
 },
 "nbformat": 4,
 "nbformat_minor": 5
}
