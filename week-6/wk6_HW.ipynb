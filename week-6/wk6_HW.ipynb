{
 "cells": [
  {
   "cell_type": "code",
   "execution_count": 1,
   "id": "worldwide-trail",
   "metadata": {},
   "outputs": [],
   "source": [
    "#Special module written for this class\n",
    "#This provides access to data and to helper functions from previous weeks\n",
    "#Make sure you update it before starting this notebook\n",
    "import lucem_illud #pip install -U git+git://github.com/UChicago-Computational-Content-Analysis/lucem_illud.git\n",
    "\n",
    "#All these packages need to be installed from pip\n",
    "import requests #For getting files\n",
    "import zipfile #For managing zips\n",
    "import numpy as np #For arrays\n",
    "import scipy as sp #For some stats\n",
    "import pandas as pd #Gives us DataFrames\n",
    "import numpy as np #Math and matrices\n",
    "import matplotlib.pyplot as plt #For graphics\n",
    "\n",
    "# statsmodels is a popular Python statistics package\n",
    "import statsmodels.api as sm\n",
    "# Let's also import its graphics module\n",
    "import statsmodels.graphics.api as smg\n",
    "# And the mediation module\n",
    "from statsmodels.stats.mediation import Mediation\n",
    "\n",
    "# Pipelines to add text-based quantiative variables for regressions\n",
    "from transformers import pipeline\n",
    "\n",
    "# We have a lot of features, so let's set Pandas to show all of them.\n",
    "pd.set_option('display.max_columns', None)"
   ]
  },
  {
   "cell_type": "markdown",
   "id": "cultural-reproduction",
   "metadata": {},
   "source": [
    "## <font color=\"red\">*Exercise 1*</font>\n",
    "\n",
    "<font color=\"red\">Describe 2 separate predictions relevant to your project and associated texts, which involve predicting text that has not been observed based on patterns that have. Then, in a single, short paragraph, describe a research design through which you could use textual features and the tools of classification and regression to evaluate these predictions."
   ]
  },
  {
   "cell_type": "markdown",
   "id": "affecting-administrator",
   "metadata": {},
   "source": [
    "1. When the network connections of a investors post positively about investment, the investor is more likely to post positively as well.\n",
    "2. Investors with fewer connections tend to be more 'stubborn' - does not change their sentiment much - than those with more connections.\n",
    "\n",
    "With posts and investor network information (i.e., following-follower) collected, we could use classification techniques to classify posts to positive/negative/neutral categories, or calculate sentiment scores. Then we may regress the sentiment scores of investors (the dependent variable) on the scores of his connections (the independent variable of interest). \n",
    "\n",
    "For the second prediction, we may want to calculate a volatility score to capture how investors change their sentiment(the dependent variable), and regress it on the number of network connections (the independent variable of interest). "
   ]
  },
  {
   "cell_type": "markdown",
   "id": "aquatic-mercury",
   "metadata": {},
   "source": [
    "## <font color=\"red\">*Exercise 2*</font>\n",
    "\n",
    "<font color=\"red\">Propose a simple causal model in your data, or a different causal model in the annotated Internet Arguments Corpus (e.g., a different treatment, a different outcome), and test it using a linear or logistic regression model. If you are using social media data for your final project, we encourage you to classify or annotate a sample of that data (either compuationally or with human annotators) and examine the effect of texts on replies to that text (e.g., Reddit posts on Reddit comments, Tweets on Twitter replies, YouTube video transcripts on YouTube comments or ratings). You do not need to make a graph of the causal model, but please make it clear (e.g., \"X affects Y, and C affects both X and Y.\").\n",
    "    \n",
    "<font color=\"red\">Also consider using the [ConvoKit datasets](https://convokit.cornell.edu/documentation/datasets.html)! Anytime there is conversation, there is an opportunity to explore the effects of early parts of the conversation on later parts. We will explore this further in Week 8 on Text Generation and Conversation.\n",
    "    \n",
    "<font color=\"red\">***Stretch*** (not required): Propose a more robust identification strategy using either matching, difference in difference, regression discontinuity, or an instrumental variable. Each of these methods usually gives you a more precise identification of the causal effect than a unconditional regression. Scott Cunningham's [Causal Inference: The Mixtape](https://mixtape.scunning.com/) is a free textbook on these topics, and all have good YouTube video explanations."
   ]
  },
  {
   "cell_type": "markdown",
   "id": "weekly-thickness",
   "metadata": {},
   "source": [
    "Since I have not got the investor network data ready, for this question, I used a dataset of investment related Youtube videos that I recently built. Here views are measured with thousands, and time (how long has the video been posted) with years (0 if less than 1 year).\n",
    "\n",
    "I expected that post time and sentiment of the videos title would affect the number of views it get. Since the dataset is too large, I used a subset for this exercise. Sadly, the regression does not suggest significance of any of the independent variables."
   ]
  },
  {
   "cell_type": "code",
   "execution_count": 2,
   "id": "determined-klein",
   "metadata": {
    "scrolled": true
   },
   "outputs": [
    {
     "data": {
      "text/html": [
       "<div>\n",
       "<style scoped>\n",
       "    .dataframe tbody tr th:only-of-type {\n",
       "        vertical-align: middle;\n",
       "    }\n",
       "\n",
       "    .dataframe tbody tr th {\n",
       "        vertical-align: top;\n",
       "    }\n",
       "\n",
       "    .dataframe thead th {\n",
       "        text-align: right;\n",
       "    }\n",
       "</style>\n",
       "<table border=\"1\" class=\"dataframe\">\n",
       "  <thead>\n",
       "    <tr style=\"text-align: right;\">\n",
       "      <th></th>\n",
       "      <th>title</th>\n",
       "      <th>url</th>\n",
       "      <th>ticker</th>\n",
       "      <th>channel</th>\n",
       "      <th>views</th>\n",
       "      <th>time</th>\n",
       "      <th>snippet</th>\n",
       "      <th>channel_link</th>\n",
       "    </tr>\n",
       "  </thead>\n",
       "  <tbody>\n",
       "    <tr>\n",
       "      <th>0</th>\n",
       "      <td>Is Clearpoint Neuro #CLPT the next Multibagger?</td>\n",
       "      <td>https://www.youtube.com/watch?v=O2lWWZzAzMY</td>\n",
       "      <td>CLPT</td>\n",
       "      <td>MOAT Investing</td>\n",
       "      <td>1</td>\n",
       "      <td>0</td>\n",
       "      <td>Clearpoint Neuro $CLPT utilizes a hospital's e...</td>\n",
       "      <td>https://www.youtube.com/c/MOATInvesting</td>\n",
       "    </tr>\n",
       "    <tr>\n",
       "      <th>1</th>\n",
       "      <td>ClearPoint System Overview</td>\n",
       "      <td>https://www.youtube.com/watch?v=KlYsz3iywnc</td>\n",
       "      <td>CLPT</td>\n",
       "      <td>ClearPoint Neuro, Inc.</td>\n",
       "      <td>2</td>\n",
       "      <td>2</td>\n",
       "      <td>An overview of the ClearPoint Neuro Navigation...</td>\n",
       "      <td>https://www.youtube.com/c/ClearPointNeuroInc</td>\n",
       "    </tr>\n",
       "    <tr>\n",
       "      <th>2</th>\n",
       "      <td>Comments on the \"Bitcoin Black Paper\" (Why Bit...</td>\n",
       "      <td>https://www.youtube.com/watch?v=XeG0FzPxSh4</td>\n",
       "      <td>CLPT</td>\n",
       "      <td>N N Taleb's Probability Moocs</td>\n",
       "      <td>82</td>\n",
       "      <td>0</td>\n",
       "      <td>The main paper and the supplementary equations...</td>\n",
       "      <td>https://www.youtube.com/channel/UC8uY6yLP9BS4B...</td>\n",
       "    </tr>\n",
       "    <tr>\n",
       "      <th>3</th>\n",
       "      <td>Reacting To Losing -$116k Dollars In Seconds (...</td>\n",
       "      <td>https://www.youtube.com/watch?v=To-G9Y8Z2Z8</td>\n",
       "      <td>CLPT</td>\n",
       "      <td>Deadnsyde</td>\n",
       "      <td>755</td>\n",
       "      <td>0</td>\n",
       "      <td>fingers crossed for tomorrow 99 cent Deadnsyde...</td>\n",
       "      <td>https://www.youtube.com/c/Deadnsyde</td>\n",
       "    </tr>\n",
       "    <tr>\n",
       "      <th>4</th>\n",
       "      <td>Peter Lynch: How to Invest in an Overvalued Ma...</td>\n",
       "      <td>https://www.youtube.com/watch?v=iX_8UI9frjE</td>\n",
       "      <td>CLPT</td>\n",
       "      <td>New Money</td>\n",
       "      <td>527</td>\n",
       "      <td>1</td>\n",
       "      <td>Peter Lynch is a world famous stock market inv...</td>\n",
       "      <td>https://www.youtube.com/c/AussieWealthCreation</td>\n",
       "    </tr>\n",
       "  </tbody>\n",
       "</table>\n",
       "</div>"
      ],
      "text/plain": [
       "                                               title  \\\n",
       "0    Is Clearpoint Neuro #CLPT the next Multibagger?   \n",
       "1                         ClearPoint System Overview   \n",
       "2  Comments on the \"Bitcoin Black Paper\" (Why Bit...   \n",
       "3  Reacting To Losing -$116k Dollars In Seconds (...   \n",
       "4  Peter Lynch: How to Invest in an Overvalued Ma...   \n",
       "\n",
       "                                           url ticker  \\\n",
       "0  https://www.youtube.com/watch?v=O2lWWZzAzMY   CLPT   \n",
       "1  https://www.youtube.com/watch?v=KlYsz3iywnc   CLPT   \n",
       "2  https://www.youtube.com/watch?v=XeG0FzPxSh4   CLPT   \n",
       "3  https://www.youtube.com/watch?v=To-G9Y8Z2Z8   CLPT   \n",
       "4  https://www.youtube.com/watch?v=iX_8UI9frjE   CLPT   \n",
       "\n",
       "                         channel  views  time  \\\n",
       "0                 MOAT Investing      1     0   \n",
       "1         ClearPoint Neuro, Inc.      2     2   \n",
       "2  N N Taleb's Probability Moocs     82     0   \n",
       "3                      Deadnsyde    755     0   \n",
       "4                      New Money    527     1   \n",
       "\n",
       "                                             snippet  \\\n",
       "0  Clearpoint Neuro $CLPT utilizes a hospital's e...   \n",
       "1  An overview of the ClearPoint Neuro Navigation...   \n",
       "2  The main paper and the supplementary equations...   \n",
       "3  fingers crossed for tomorrow 99 cent Deadnsyde...   \n",
       "4  Peter Lynch is a world famous stock market inv...   \n",
       "\n",
       "                                        channel_link  \n",
       "0            https://www.youtube.com/c/MOATInvesting  \n",
       "1       https://www.youtube.com/c/ClearPointNeuroInc  \n",
       "2  https://www.youtube.com/channel/UC8uY6yLP9BS4B...  \n",
       "3                https://www.youtube.com/c/Deadnsyde  \n",
       "4     https://www.youtube.com/c/AussieWealthCreation  "
      ]
     },
     "execution_count": 2,
     "metadata": {},
     "output_type": "execute_result"
    }
   ],
   "source": [
    "df = pd.read_csv('videos_clean.csv')\n",
    "df.head()"
   ]
  },
  {
   "cell_type": "code",
   "execution_count": 3,
   "id": "nervous-burner",
   "metadata": {},
   "outputs": [],
   "source": [
    "df['title_len'] = df['title'].apply(lambda x:len(x))\n",
    "df['snippet_len'] = df['snippet'].apply(lambda x:len(x))"
   ]
  },
  {
   "cell_type": "code",
   "execution_count": 17,
   "id": "fabulous-lincoln",
   "metadata": {},
   "outputs": [],
   "source": [
    "df_short = df[::101]"
   ]
  },
  {
   "cell_type": "code",
   "execution_count": 18,
   "id": "severe-springfield",
   "metadata": {
    "scrolled": true
   },
   "outputs": [
    {
     "name": "stderr",
     "output_type": "stream",
     "text": [
      "No model was supplied, defaulted to distilbert-base-uncased-finetuned-sst-2-english (https://huggingface.co/distilbert-base-uncased-finetuned-sst-2-english)\n",
      "/anaconda3/lib/python3.7/site-packages/ipykernel_launcher.py:2: SettingWithCopyWarning: \n",
      "A value is trying to be set on a copy of a slice from a DataFrame.\n",
      "Try using .loc[row_indexer,col_indexer] = value instead\n",
      "\n",
      "See the caveats in the documentation: https://pandas.pydata.org/pandas-docs/stable/user_guide/indexing.html#returning-a-view-versus-a-copy\n",
      "  \n"
     ]
    },
    {
     "name": "stdout",
     "output_type": "stream",
     "text": [
      "CPU times: user 1min 39s, sys: 1.79 s, total: 1min 41s\n",
      "Wall time: 1min 43s\n"
     ]
    },
    {
     "name": "stderr",
     "output_type": "stream",
     "text": [
      "/anaconda3/lib/python3.7/site-packages/ipykernel_launcher.py:3: SettingWithCopyWarning: \n",
      "A value is trying to be set on a copy of a slice from a DataFrame.\n",
      "Try using .loc[row_indexer,col_indexer] = value instead\n",
      "\n",
      "See the caveats in the documentation: https://pandas.pydata.org/pandas-docs/stable/user_guide/indexing.html#returning-a-view-versus-a-copy\n",
      "  This is separate from the ipykernel package so we can avoid doing imports until\n"
     ]
    }
   ],
   "source": [
    "%%time\n",
    "sentiment = pipeline(\"sentiment-analysis\")\n",
    "df_short['title_sentiment'] = df_short['title'].apply(lambda x: sentiment(x[:512])[0]['score'])\n",
    "df_short['snippet_sentiment'] = df_short['snippet'].apply(lambda x: sentiment(x[:512])[0]['score'])"
   ]
  },
  {
   "cell_type": "code",
   "execution_count": 27,
   "id": "optional-timber",
   "metadata": {
    "scrolled": true
   },
   "outputs": [
    {
     "data": {
      "text/html": [
       "<table class=\"simpletable\">\n",
       "<caption>OLS Regression Results</caption>\n",
       "<tr>\n",
       "  <th>Dep. Variable:</th>          <td>views</td>      <th>  R-squared:         </th> <td>   0.010</td> \n",
       "</tr>\n",
       "<tr>\n",
       "  <th>Model:</th>                   <td>OLS</td>       <th>  Adj. R-squared:    </th> <td>   0.004</td> \n",
       "</tr>\n",
       "<tr>\n",
       "  <th>Method:</th>             <td>Least Squares</td>  <th>  F-statistic:       </th> <td>   1.796</td> \n",
       "</tr>\n",
       "<tr>\n",
       "  <th>Date:</th>             <td>Wed, 23 Feb 2022</td> <th>  Prob (F-statistic):</th>  <td> 0.111</td>  \n",
       "</tr>\n",
       "<tr>\n",
       "  <th>Time:</th>                 <td>01:49:34</td>     <th>  Log-Likelihood:    </th> <td> -11036.</td> \n",
       "</tr>\n",
       "<tr>\n",
       "  <th>No. Observations:</th>      <td>   934</td>      <th>  AIC:               </th> <td>2.208e+04</td>\n",
       "</tr>\n",
       "<tr>\n",
       "  <th>Df Residuals:</th>          <td>   928</td>      <th>  BIC:               </th> <td>2.211e+04</td>\n",
       "</tr>\n",
       "<tr>\n",
       "  <th>Df Model:</th>              <td>     5</td>      <th>                     </th>     <td> </td>    \n",
       "</tr>\n",
       "<tr>\n",
       "  <th>Covariance Type:</th>      <td>nonrobust</td>    <th>                     </th>     <td> </td>    \n",
       "</tr>\n",
       "</table>\n",
       "<table class=\"simpletable\">\n",
       "<tr>\n",
       "          <td></td>             <th>coef</th>     <th>std err</th>      <th>t</th>      <th>P>|t|</th>  <th>[0.025</th>    <th>0.975]</th>  \n",
       "</tr>\n",
       "<tr>\n",
       "  <th>const</th>             <td> 7544.0158</td> <td> 1.67e+04</td> <td>    0.452</td> <td> 0.651</td> <td>-2.52e+04</td> <td> 4.03e+04</td>\n",
       "</tr>\n",
       "<tr>\n",
       "  <th>time</th>              <td>  135.5792</td> <td>  247.874</td> <td>    0.547</td> <td> 0.585</td> <td> -350.879</td> <td>  622.038</td>\n",
       "</tr>\n",
       "<tr>\n",
       "  <th>title_sentiment</th>   <td> 4112.2466</td> <td>  1.1e+04</td> <td>    0.373</td> <td> 0.709</td> <td>-1.75e+04</td> <td> 2.57e+04</td>\n",
       "</tr>\n",
       "<tr>\n",
       "  <th>title_len</th>         <td>  -59.1392</td> <td>   51.673</td> <td>   -1.144</td> <td> 0.253</td> <td> -160.549</td> <td>   42.270</td>\n",
       "</tr>\n",
       "<tr>\n",
       "  <th>snippet_sentiment</th> <td> 1.066e+04</td> <td> 1.19e+04</td> <td>    0.899</td> <td> 0.369</td> <td>-1.26e+04</td> <td> 3.39e+04</td>\n",
       "</tr>\n",
       "<tr>\n",
       "  <th>snippet_len</th>       <td> -128.9024</td> <td>   54.638</td> <td>   -2.359</td> <td> 0.019</td> <td> -236.130</td> <td>  -21.675</td>\n",
       "</tr>\n",
       "</table>\n",
       "<table class=\"simpletable\">\n",
       "<tr>\n",
       "  <th>Omnibus:</th>       <td>2039.047</td> <th>  Durbin-Watson:     </th>  <td>   2.011</td>  \n",
       "</tr>\n",
       "<tr>\n",
       "  <th>Prob(Omnibus):</th>  <td> 0.000</td>  <th>  Jarque-Bera (JB):  </th> <td>5548014.213</td>\n",
       "</tr>\n",
       "<tr>\n",
       "  <th>Skew:</th>           <td>18.345</td>  <th>  Prob(JB):          </th>  <td>    0.00</td>  \n",
       "</tr>\n",
       "<tr>\n",
       "  <th>Kurtosis:</th>       <td>378.786</td> <th>  Cond. No.          </th>  <td>2.50e+03</td>  \n",
       "</tr>\n",
       "</table><br/><br/>Notes:<br/>[1] Standard Errors assume that the covariance matrix of the errors is correctly specified.<br/>[2] The condition number is large, 2.5e+03. This might indicate that there are<br/>strong multicollinearity or other numerical problems."
      ],
      "text/plain": [
       "<class 'statsmodels.iolib.summary.Summary'>\n",
       "\"\"\"\n",
       "                            OLS Regression Results                            \n",
       "==============================================================================\n",
       "Dep. Variable:                  views   R-squared:                       0.010\n",
       "Model:                            OLS   Adj. R-squared:                  0.004\n",
       "Method:                 Least Squares   F-statistic:                     1.796\n",
       "Date:                Wed, 23 Feb 2022   Prob (F-statistic):              0.111\n",
       "Time:                        01:49:34   Log-Likelihood:                -11036.\n",
       "No. Observations:                 934   AIC:                         2.208e+04\n",
       "Df Residuals:                     928   BIC:                         2.211e+04\n",
       "Df Model:                           5                                         \n",
       "Covariance Type:            nonrobust                                         \n",
       "=====================================================================================\n",
       "                        coef    std err          t      P>|t|      [0.025      0.975]\n",
       "-------------------------------------------------------------------------------------\n",
       "const              7544.0158   1.67e+04      0.452      0.651   -2.52e+04    4.03e+04\n",
       "time                135.5792    247.874      0.547      0.585    -350.879     622.038\n",
       "title_sentiment    4112.2466    1.1e+04      0.373      0.709   -1.75e+04    2.57e+04\n",
       "title_len           -59.1392     51.673     -1.144      0.253    -160.549      42.270\n",
       "snippet_sentiment  1.066e+04   1.19e+04      0.899      0.369   -1.26e+04    3.39e+04\n",
       "snippet_len        -128.9024     54.638     -2.359      0.019    -236.130     -21.675\n",
       "==============================================================================\n",
       "Omnibus:                     2039.047   Durbin-Watson:                   2.011\n",
       "Prob(Omnibus):                  0.000   Jarque-Bera (JB):          5548014.213\n",
       "Skew:                          18.345   Prob(JB):                         0.00\n",
       "Kurtosis:                     378.786   Cond. No.                     2.50e+03\n",
       "==============================================================================\n",
       "\n",
       "Notes:\n",
       "[1] Standard Errors assume that the covariance matrix of the errors is correctly specified.\n",
       "[2] The condition number is large, 2.5e+03. This might indicate that there are\n",
       "strong multicollinearity or other numerical problems.\n",
       "\"\"\""
      ]
     },
     "execution_count": 27,
     "metadata": {},
     "output_type": "execute_result"
    }
   ],
   "source": [
    "y = df_short['views']\n",
    "X_cols = ['time', 'title_sentiment','title_len', 'snippet_sentiment','snippet_len']\n",
    "X = sm.add_constant(df_short[X_cols])\n",
    "\n",
    "lm = sm.OLS(y,X).fit()\n",
    "lm.summary()"
   ]
  },
  {
   "cell_type": "markdown",
   "id": "monthly-chain",
   "metadata": {},
   "source": [
    "Though the regression results indicate high collinearity, the correlation matrix does not show that."
   ]
  },
  {
   "cell_type": "code",
   "execution_count": 25,
   "id": "quantitative-garbage",
   "metadata": {},
   "outputs": [
    {
     "data": {
      "image/png": "[encoded data removed]",
      "text/plain": [
       "<Figure size 432x288 with 2 Axes>"
      ]
     },
     "metadata": {
      "needs_background": "light"
     },
     "output_type": "display_data"
    }
   ],
   "source": [
    "corr_matrix = np.corrcoef(df_short[X_cols].T)\n",
    "smg.plot_corr(corr_matrix, xnames=X_cols)\n",
    "plt.show()"
   ]
  },
  {
   "cell_type": "markdown",
   "id": "motivated-annex",
   "metadata": {},
   "source": [
    "## <font color=\"red\">*Exercise 3*</font>\n",
    "\n",
    "<font color=\"red\">Propose a measure you could generate to fill in or improve upon the simple causal model you proposed above and how you would split the data (e.g., a % of your main data, a separate-but-informative dataset). You do not have to produce the measure.\n",
    "    \n",
    "<font color=\"red\">***Stretch*** (not required): Produce the measure and integrate it into your statistical analysis. This could be a great approach for your final project!"
   ]
  },
  {
   "cell_type": "markdown",
   "id": "relevant-cattle",
   "metadata": {},
   "source": [
    "Perhaps investors would be more likely to move their sentiment towards his connections', when they speak about certian topics. So, we may randomly split the data and take a subset (perhaps 1/10 if the data size is large) and build a LDA topic model on it. Then extract commonly used words in each topic, incorporate them into the regression (e.g., the number of words in topic one the investors' connections use in their posts), and see if that would affect our results."
   ]
  },
  {
   "cell_type": "markdown",
   "id": "empirical-nicaragua",
   "metadata": {},
   "source": [
    "## <font color=\"red\">*Exercise 4*</font>\n",
    "\n",
    "<font color=\"red\">Propose a mediation model related to the simple causal model you proposed above (ideally on the dataset you're using for your final project). If you have measures for each variable in the model, run the analysis: You can just copy the \"Mediation analysis\" cell above and replace with your variables. If you do not have measures, do not run the analysis, but be clear as to the effect(s) you would like to estimate and the research design you would use to test them."
   ]
  },
  {
   "cell_type": "markdown",
   "id": "aging-generation",
   "metadata": {},
   "source": [
    "The causal relationship between investors' sentiment and the network connections' sentiment may be mediated by topics. For instance, conections who post negatively about their investment may tend to talk about certian topics, and those topics would influence the perceptions of the investor who read them.\n",
    "\n",
    "I have not prepared the data yet but as mentioned above, we may randomly split the data and take a subset (perhaps 1/10 if the data size is large) and build a LDA topic model on it. Then extract commonly used words in each topic, incorporate them into the regression (e.g., the number of words in topic one the investors' connections use in their posts), and see if that would affect our results."
   ]
  },
  {
   "cell_type": "markdown",
   "id": "intense-healthcare",
   "metadata": {},
   "source": [
    "## <font color=\"red\">*Exercise 5*</font>\n",
    "\n",
    "<font color=\"red\">Propose a confounder in your final project data that could be controlled for using the method of Pryzant et al. Generate an appropriate CSV file and run it on some vocabulary in your corpus. If you have no such confounder available for your final project, you can use `complaints.csv` with a new vocabulary or for different variables (e.g., `Sub-product`, `Company`) or you can further explore the interesting case of `mortgage`. Also keep in mind the [ConvoKit datasets](https://convokit.cornell.edu/documentation/datasets.html). In any case, be sure to interpret the results. What does the output of `causal_attribution.score_vocab()` mean in your context?"
   ]
  },
  {
   "cell_type": "markdown",
   "id": "indonesian-output",
   "metadata": {},
   "source": [
    "For my final project, a confounder that could be controlled by Pryzant et al's method is the industry of the stock. For example, perhaps posts about the enery industry is more likely to sway people's perception.\n",
    "\n",
    "Since I don't have the data for the final project in my hand, I used the Youtube video data as in exercise 2. I hope to predict views with video title, while the names of channel may be a confounder - users may indicate that they are professional investors by including words such as 'CFA', 'manager', 'agent', 'consultant' in their channel names.\n",
    "\n"
   ]
  },
  {
   "cell_type": "code",
   "execution_count": 58,
   "id": "fuzzy-renaissance",
   "metadata": {},
   "outputs": [],
   "source": [
    "df['high_views'] = df['views'].apply(lambda x: 'Yes' if x>100 else 'No')"
   ]
  },
  {
   "cell_type": "code",
   "execution_count": 59,
   "id": "greenhouse-lindsay",
   "metadata": {},
   "outputs": [
    {
     "data": {
      "text/plain": [
       "0         No\n",
       "1         No\n",
       "2         No\n",
       "3        Yes\n",
       "4        Yes\n",
       "        ... \n",
       "94311    Yes\n",
       "94312     No\n",
       "94313     No\n",
       "94314     No\n",
       "94315     No\n",
       "Name: high_views, Length: 94316, dtype: object"
      ]
     },
     "execution_count": 59,
     "metadata": {},
     "output_type": "execute_result"
    }
   ],
   "source": [
    "df['high_views']"
   ]
  },
  {
   "cell_type": "code",
   "execution_count": 60,
   "id": "running-vertical",
   "metadata": {},
   "outputs": [],
   "source": [
    "df.to_csv(\"videos_clean.csv\", encoding='utf-8', index=False)"
   ]
  },
  {
   "cell_type": "code",
   "execution_count": 61,
   "id": "greatest-omega",
   "metadata": {},
   "outputs": [
    {
     "data": {
      "text/html": [
       "<div>\n",
       "<style scoped>\n",
       "    .dataframe tbody tr th:only-of-type {\n",
       "        vertical-align: middle;\n",
       "    }\n",
       "\n",
       "    .dataframe tbody tr th {\n",
       "        vertical-align: top;\n",
       "    }\n",
       "\n",
       "    .dataframe thead th {\n",
       "        text-align: right;\n",
       "    }\n",
       "</style>\n",
       "<table border=\"1\" class=\"dataframe\">\n",
       "  <thead>\n",
       "    <tr style=\"text-align: right;\">\n",
       "      <th></th>\n",
       "      <th>title</th>\n",
       "      <th>url</th>\n",
       "      <th>ticker</th>\n",
       "      <th>channel</th>\n",
       "      <th>views</th>\n",
       "      <th>time</th>\n",
       "      <th>snippet</th>\n",
       "      <th>channel_link</th>\n",
       "      <th>title_len</th>\n",
       "      <th>snippet_len</th>\n",
       "      <th>high_views</th>\n",
       "    </tr>\n",
       "  </thead>\n",
       "  <tbody>\n",
       "    <tr>\n",
       "      <th>0</th>\n",
       "      <td>Is Clearpoint Neuro #CLPT the next Multibagger?</td>\n",
       "      <td>https://www.youtube.com/watch?v=O2lWWZzAzMY</td>\n",
       "      <td>CLPT</td>\n",
       "      <td>MOAT Investing</td>\n",
       "      <td>1</td>\n",
       "      <td>0</td>\n",
       "      <td>Clearpoint Neuro $CLPT utilizes a hospital's e...</td>\n",
       "      <td>https://www.youtube.com/c/MOATInvesting</td>\n",
       "      <td>47</td>\n",
       "      <td>127</td>\n",
       "      <td>No</td>\n",
       "    </tr>\n",
       "    <tr>\n",
       "      <th>1</th>\n",
       "      <td>ClearPoint System Overview</td>\n",
       "      <td>https://www.youtube.com/watch?v=KlYsz3iywnc</td>\n",
       "      <td>CLPT</td>\n",
       "      <td>ClearPoint Neuro, Inc.</td>\n",
       "      <td>2</td>\n",
       "      <td>2</td>\n",
       "      <td>An overview of the ClearPoint Neuro Navigation...</td>\n",
       "      <td>https://www.youtube.com/c/ClearPointNeuroInc</td>\n",
       "      <td>26</td>\n",
       "      <td>99</td>\n",
       "      <td>No</td>\n",
       "    </tr>\n",
       "    <tr>\n",
       "      <th>2</th>\n",
       "      <td>Comments on the \"Bitcoin Black Paper\" (Why Bit...</td>\n",
       "      <td>https://www.youtube.com/watch?v=XeG0FzPxSh4</td>\n",
       "      <td>CLPT</td>\n",
       "      <td>N N Taleb's Probability Moocs</td>\n",
       "      <td>82</td>\n",
       "      <td>0</td>\n",
       "      <td>The main paper and the supplementary equations...</td>\n",
       "      <td>https://www.youtube.com/channel/UC8uY6yLP9BS4B...</td>\n",
       "      <td>70</td>\n",
       "      <td>57</td>\n",
       "      <td>No</td>\n",
       "    </tr>\n",
       "    <tr>\n",
       "      <th>3</th>\n",
       "      <td>Reacting To Losing -$116k Dollars In Seconds (...</td>\n",
       "      <td>https://www.youtube.com/watch?v=To-G9Y8Z2Z8</td>\n",
       "      <td>CLPT</td>\n",
       "      <td>Deadnsyde</td>\n",
       "      <td>755</td>\n",
       "      <td>0</td>\n",
       "      <td>fingers crossed for tomorrow 99 cent Deadnsyde...</td>\n",
       "      <td>https://www.youtube.com/c/Deadnsyde</td>\n",
       "      <td>59</td>\n",
       "      <td>128</td>\n",
       "      <td>Yes</td>\n",
       "    </tr>\n",
       "    <tr>\n",
       "      <th>4</th>\n",
       "      <td>Peter Lynch: How to Invest in an Overvalued Ma...</td>\n",
       "      <td>https://www.youtube.com/watch?v=iX_8UI9frjE</td>\n",
       "      <td>CLPT</td>\n",
       "      <td>New Money</td>\n",
       "      <td>527</td>\n",
       "      <td>1</td>\n",
       "      <td>Peter Lynch is a world famous stock market inv...</td>\n",
       "      <td>https://www.youtube.com/c/AussieWealthCreation</td>\n",
       "      <td>50</td>\n",
       "      <td>123</td>\n",
       "      <td>Yes</td>\n",
       "    </tr>\n",
       "    <tr>\n",
       "      <th>...</th>\n",
       "      <td>...</td>\n",
       "      <td>...</td>\n",
       "      <td>...</td>\n",
       "      <td>...</td>\n",
       "      <td>...</td>\n",
       "      <td>...</td>\n",
       "      <td>...</td>\n",
       "      <td>...</td>\n",
       "      <td>...</td>\n",
       "      <td>...</td>\n",
       "      <td>...</td>\n",
       "    </tr>\n",
       "    <tr>\n",
       "      <th>94311</th>\n",
       "      <td>What’s the Difference Between an MRI and a CT?</td>\n",
       "      <td>https://www.youtube.com/watch?v=aQZ8tTZnQ8A</td>\n",
       "      <td>MRIC</td>\n",
       "      <td>RAYUS Radiology™</td>\n",
       "      <td>3000</td>\n",
       "      <td>5</td>\n",
       "      <td>You may need an MRI or CT scan but not know wh...</td>\n",
       "      <td>https://www.youtube.com/c/Mycdi</td>\n",
       "      <td>46</td>\n",
       "      <td>128</td>\n",
       "      <td>Yes</td>\n",
       "    </tr>\n",
       "    <tr>\n",
       "      <th>94312</th>\n",
       "      <td>Artificial Intelligence Penny Stock with HUGE ...</td>\n",
       "      <td>https://www.youtube.com/watch?v=47DuF6jiHio</td>\n",
       "      <td>MRIC</td>\n",
       "      <td>JT Wealth</td>\n",
       "      <td>15</td>\n",
       "      <td>0</td>\n",
       "      <td>Taking a look at an artificial intelligence co...</td>\n",
       "      <td>https://www.youtube.com/c/JTWealth</td>\n",
       "      <td>64</td>\n",
       "      <td>133</td>\n",
       "      <td>No</td>\n",
       "    </tr>\n",
       "    <tr>\n",
       "      <th>94313</th>\n",
       "      <td>5 UNDERVALUED PENNY STOCKS! 💥 ANALYSTS HAVE 55...</td>\n",
       "      <td>https://www.youtube.com/watch?v=FzgcevTn83Q</td>\n",
       "      <td>MRIC</td>\n",
       "      <td>Brendan Guastaferro</td>\n",
       "      <td>2</td>\n",
       "      <td>2</td>\n",
       "      <td>5 UNDERVLAUED Penny Stocks! + 2 BONUS STOCKS! ...</td>\n",
       "      <td>https://www.youtube.com/channel/UC3iIVoAYW6dtp...</td>\n",
       "      <td>77</td>\n",
       "      <td>114</td>\n",
       "      <td>No</td>\n",
       "    </tr>\n",
       "    <tr>\n",
       "      <th>94314</th>\n",
       "      <td>Is Clearpoint Neuro #CLPT the next Multibagger?</td>\n",
       "      <td>https://www.youtube.com/watch?v=O2lWWZzAzMY</td>\n",
       "      <td>MRIC</td>\n",
       "      <td>MOAT Investing</td>\n",
       "      <td>1</td>\n",
       "      <td>0</td>\n",
       "      <td>Clearpoint Neuro $CLPT utilizes a hospital's e...</td>\n",
       "      <td>https://www.youtube.com/c/MOATInvesting</td>\n",
       "      <td>47</td>\n",
       "      <td>127</td>\n",
       "      <td>No</td>\n",
       "    </tr>\n",
       "    <tr>\n",
       "      <th>94315</th>\n",
       "      <td>Marqeta(MQ) CMO Talks Company's IPO Debut, Clo...</td>\n",
       "      <td>https://www.youtube.com/watch?v=LN0_2F3DHVQ</td>\n",
       "      <td>MRIC</td>\n",
       "      <td>TD Ameritrade Network</td>\n",
       "      <td>1</td>\n",
       "      <td>0</td>\n",
       "      <td>Market on Close: IPO ALERT: Marqeta CMO Vidya ...</td>\n",
       "      <td>https://www.youtube.com/c/TDAmeritradeNetwork</td>\n",
       "      <td>76</td>\n",
       "      <td>122</td>\n",
       "      <td>No</td>\n",
       "    </tr>\n",
       "  </tbody>\n",
       "</table>\n",
       "<p>94316 rows × 11 columns</p>\n",
       "</div>"
      ],
      "text/plain": [
       "                                                   title  \\\n",
       "0        Is Clearpoint Neuro #CLPT the next Multibagger?   \n",
       "1                             ClearPoint System Overview   \n",
       "2      Comments on the \"Bitcoin Black Paper\" (Why Bit...   \n",
       "3      Reacting To Losing -$116k Dollars In Seconds (...   \n",
       "4      Peter Lynch: How to Invest in an Overvalued Ma...   \n",
       "...                                                  ...   \n",
       "94311     What’s the Difference Between an MRI and a CT?   \n",
       "94312  Artificial Intelligence Penny Stock with HUGE ...   \n",
       "94313  5 UNDERVALUED PENNY STOCKS! 💥 ANALYSTS HAVE 55...   \n",
       "94314    Is Clearpoint Neuro #CLPT the next Multibagger?   \n",
       "94315  Marqeta(MQ) CMO Talks Company's IPO Debut, Clo...   \n",
       "\n",
       "                                               url ticker  \\\n",
       "0      https://www.youtube.com/watch?v=O2lWWZzAzMY   CLPT   \n",
       "1      https://www.youtube.com/watch?v=KlYsz3iywnc   CLPT   \n",
       "2      https://www.youtube.com/watch?v=XeG0FzPxSh4   CLPT   \n",
       "3      https://www.youtube.com/watch?v=To-G9Y8Z2Z8   CLPT   \n",
       "4      https://www.youtube.com/watch?v=iX_8UI9frjE   CLPT   \n",
       "...                                            ...    ...   \n",
       "94311  https://www.youtube.com/watch?v=aQZ8tTZnQ8A   MRIC   \n",
       "94312  https://www.youtube.com/watch?v=47DuF6jiHio   MRIC   \n",
       "94313  https://www.youtube.com/watch?v=FzgcevTn83Q   MRIC   \n",
       "94314  https://www.youtube.com/watch?v=O2lWWZzAzMY   MRIC   \n",
       "94315  https://www.youtube.com/watch?v=LN0_2F3DHVQ   MRIC   \n",
       "\n",
       "                             channel  views  time  \\\n",
       "0                     MOAT Investing      1     0   \n",
       "1             ClearPoint Neuro, Inc.      2     2   \n",
       "2      N N Taleb's Probability Moocs     82     0   \n",
       "3                          Deadnsyde    755     0   \n",
       "4                          New Money    527     1   \n",
       "...                              ...    ...   ...   \n",
       "94311               RAYUS Radiology™   3000     5   \n",
       "94312                      JT Wealth     15     0   \n",
       "94313            Brendan Guastaferro      2     2   \n",
       "94314                 MOAT Investing      1     0   \n",
       "94315          TD Ameritrade Network      1     0   \n",
       "\n",
       "                                                 snippet  \\\n",
       "0      Clearpoint Neuro $CLPT utilizes a hospital's e...   \n",
       "1      An overview of the ClearPoint Neuro Navigation...   \n",
       "2      The main paper and the supplementary equations...   \n",
       "3      fingers crossed for tomorrow 99 cent Deadnsyde...   \n",
       "4      Peter Lynch is a world famous stock market inv...   \n",
       "...                                                  ...   \n",
       "94311  You may need an MRI or CT scan but not know wh...   \n",
       "94312  Taking a look at an artificial intelligence co...   \n",
       "94313  5 UNDERVLAUED Penny Stocks! + 2 BONUS STOCKS! ...   \n",
       "94314  Clearpoint Neuro $CLPT utilizes a hospital's e...   \n",
       "94315  Market on Close: IPO ALERT: Marqeta CMO Vidya ...   \n",
       "\n",
       "                                            channel_link  title_len  \\\n",
       "0                https://www.youtube.com/c/MOATInvesting         47   \n",
       "1           https://www.youtube.com/c/ClearPointNeuroInc         26   \n",
       "2      https://www.youtube.com/channel/UC8uY6yLP9BS4B...         70   \n",
       "3                    https://www.youtube.com/c/Deadnsyde         59   \n",
       "4         https://www.youtube.com/c/AussieWealthCreation         50   \n",
       "...                                                  ...        ...   \n",
       "94311                    https://www.youtube.com/c/Mycdi         46   \n",
       "94312                 https://www.youtube.com/c/JTWealth         64   \n",
       "94313  https://www.youtube.com/channel/UC3iIVoAYW6dtp...         77   \n",
       "94314            https://www.youtube.com/c/MOATInvesting         47   \n",
       "94315      https://www.youtube.com/c/TDAmeritradeNetwork         76   \n",
       "\n",
       "       snippet_len high_views  \n",
       "0              127         No  \n",
       "1               99         No  \n",
       "2               57         No  \n",
       "3              128        Yes  \n",
       "4              123        Yes  \n",
       "...            ...        ...  \n",
       "94311          128        Yes  \n",
       "94312          133         No  \n",
       "94313          114         No  \n",
       "94314          127         No  \n",
       "94315          122         No  \n",
       "\n",
       "[94316 rows x 11 columns]"
      ]
     },
     "execution_count": 61,
     "metadata": {},
     "output_type": "execute_result"
    }
   ],
   "source": [
    "pd.read_csv(\"videos_clean.csv\")"
   ]
  },
  {
   "cell_type": "code",
   "execution_count": 28,
   "id": "boxed-manhattan",
   "metadata": {},
   "outputs": [],
   "source": [
    "import causal_attribution"
   ]
  },
  {
   "cell_type": "code",
   "execution_count": 62,
   "id": "boring-acquisition",
   "metadata": {},
   "outputs": [
    {
     "name": "stdout",
     "output_type": "stream",
     "text": [
      "CPU times: user 2min 48s, sys: 17.7 s, total: 3min 6s\n",
      "Wall time: 2min 11s\n"
     ]
    }
   ],
   "source": [
    "%%time\n",
    "\n",
    "importance_scores = causal_attribution.score_vocab(\n",
    "    vocab=[\n",
    "           # Words I expect to be associated with Product\n",
    "           'CFA','professional','manager','inc', 'consultant', 'agent', 'analyst',\n",
    "           # Words I expect to be associated with views\n",
    "           'top','most','analysis','buy','comment', 'increase', 'promising', 'growth',\n",
    "           # Words I expect to not be associated with either\n",
    "           'what','how','help','why','people'\n",
    "          ],\n",
    "    csv='videos_clean.csv',\n",
    "    delimiter=\",\",\n",
    "    name_to_type={\n",
    "        'title': 'input',\n",
    "        'channel': 'control',\n",
    "        'high_views': 'predict',\n",
    "    })"
   ]
  },
  {
   "cell_type": "code",
   "execution_count": 65,
   "id": "municipal-table",
   "metadata": {},
   "outputs": [
    {
     "data": {
      "text/plain": [
       "[('UNK', 2.0017787201795727),\n",
       " ('why', 0.7432611707481556),\n",
       " ('CFA', 0.6627173854358261),\n",
       " ('consultant', 0.3569107243529288),\n",
       " ('agent', 0.3194133494980633),\n",
       " ('buy', 0.2766691543511115),\n",
       " ('PAD', 0.13449170836247504),\n",
       " ('what', 0.060353699256666005),\n",
       " ('how', 0.02663266018498689),\n",
       " ('promising', -0.0070407274179160595),\n",
       " ('professional', -0.011655279250589956),\n",
       " ('most', -0.11483261379180476),\n",
       " ('people', -0.140654566581361),\n",
       " ('analysis', -0.25847389560658485),\n",
       " ('inc', -0.3833324135048315),\n",
       " ('comment', -0.49228853552631335),\n",
       " ('help', -0.7925938710104674),\n",
       " ('increase', -0.8144183354452252),\n",
       " ('growth', -0.8580835144966841),\n",
       " ('top', -0.9375890359515324),\n",
       " ('analyst', -1.0986533458344638),\n",
       " ('manager', -1.12754247256089)]"
      ]
     },
     "execution_count": 65,
     "metadata": {},
     "output_type": "execute_result"
    }
   ],
   "source": [
    "importance_scores['high_views']['Yes']"
   ]
  },
  {
   "cell_type": "markdown",
   "id": "pursuant-bundle",
   "metadata": {},
   "source": [
    "The result shows that including words like 'CFA', 'consultant' and 'agent' still help a videos to get high number of views even though we controlled the channel name."
   ]
  },
  {
   "cell_type": "markdown",
   "id": "mental-today",
   "metadata": {},
   "source": [
    "## <font color=\"red\">*Exercise 6*</font>\n",
    "\n",
    "<font color=\"red\">Pick one other paper on causal inference with text from the [\"Papers about Causal Inference and Language\n",
    "\" GitHub repository](https://github.com/causaltext/causal-text-papers). Write at least three sentences summarizing the paper and its logic of design in your own words.\n",
    "    \n",
    "<font color=\"red\">***Stretch*** (not required): Skim a few more papers. The causal world is your textual oyster!"
   ]
  },
  {
   "cell_type": "markdown",
   "id": "blank-nigeria",
   "metadata": {},
   "source": [
    "The paper I choose is \"When do Words Matter? Understanding the Impact of Lexical Choice on\n",
    "Audience Perception using Individual Treatment Effect Estimation\".\n",
    "\n",
    "The paper aims to offer general methods for estimating the causal effect of changing on word on a certain sentence. One common and conventional way to identify such effect is through a Randomized Control Trial, which could easily disintangle treatment effect from the context, but is difficult to scale up for generalization. The authors propose two types of estimaters based on Individual Treatment Effect estimation - they formulate a ITE they call Lexical Substitution Effect (LSE) estimation specifically for the given context. The first method analyzes individual effect for labeled sentences, the second method approach the task as a classfication problem: to predict lebel $\\tau$, by $(\\omega_i, \\omega_j, s)$ (word before change, word after change and sentence). They apply the methos to three dataset - Airbnb listings, Yelp reviews, and Twitter messages. They also conduct RCT with the help of MTurkers to validate the robustness of their algorithmic estimates."
   ]
  },
  {
   "cell_type": "code",
   "execution_count": null,
   "id": "fitted-phone",
   "metadata": {},
   "outputs": [],
   "source": []
  },
  {
   "cell_type": "code",
   "execution_count": null,
   "id": "conditional-confidentiality",
   "metadata": {},
   "outputs": [],
   "source": []
  }
 ],
 "metadata": {
  "kernelspec": {
   "display_name": "Python 3",
   "language": "python",
   "name": "python3"
  },
  "language_info": {
   "codemirror_mode": {
    "name": "ipython",
    "version": 3
   },
   "file_extension": ".py",
   "mimetype": "text/x-python",
   "name": "python",
   "nbconvert_exporter": "python",
   "pygments_lexer": "ipython3",
   "version": "3.7.1"
  }
 },
 "nbformat": 4,
 "nbformat_minor": 5
}
